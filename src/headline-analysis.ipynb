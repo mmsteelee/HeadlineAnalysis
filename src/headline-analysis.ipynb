{
 "cells": [
  {
   "cell_type": "markdown",
   "metadata": {},
   "source": [
    "# Headline Analysis\n",
    "\n",
    "We have 2 news headline datasets,\n",
    "1. data/News_Category_Dataset_v3.json \n",
    "    - HuffPost\n",
    "    - 210,294 records between 2012 and 2022\n",
    "    - Attributes: (category, headline, authors, link, short_description, date)\n",
    "2. data/abcnews-date-text.csv \n",
    "    - Australian ABC\n",
    "    - 1,103,665 records between 2003 and 2021\n",
    "    - Attributes: (headline, date)"
   ]
  },
  {
   "cell_type": "markdown",
   "metadata": {},
   "source": [
    "1) First we will work on the Australian ABC dataset and do a Kmeans clustering, we will look at the clusters and see what type of news headline it is. (Use reference/k-means-clustering...)\n",
    "\n",
    "2) Second we will work on the HuffPost dataset which has a category attribute. We will then make a model predicting a headlines category (forget about authors, link short description and date). (Use reference/nlp-news-articles...)\n",
    "\n",
    "3) Third we will use the model in 2 to predict the headlines in 1 and compare the models predictions with the Kmeans categroy it's put in\n",
    "\n",
    "4) Future Possibilities\n",
    "-   Sentiment analysis and prediction on each of the categories (kmeans category and predifined categories)\n",
    "-   Talk about real world utilization of Headline analysis (stock market prediction etc)\n",
    "    -   If a headline mentions a company and is in the business category we can use the sentiment to 'skim' the idea\n",
    "-   Use the time attributes of the headlines to predict the categroy of news on a certain day\n",
    "-   Do a correlation report between the clusters by finding the closest cluster means to a data point"
   ]
  },
  {
   "cell_type": "markdown",
   "metadata": {},
   "source": [
    "### (1) K-means "
   ]
  },
  {
   "cell_type": "code",
   "execution_count": 1,
   "metadata": {},
   "outputs": [
    {
     "name": "stdout",
     "output_type": "stream",
     "text": [
      "Requirement already satisfied: numpy in /opt/homebrew/lib/python3.10/site-packages (1.23.5)\n",
      "Requirement already satisfied: matplotlib in /opt/homebrew/lib/python3.10/site-packages (3.6.2)\n",
      "Requirement already satisfied: scikit-learn in /opt/homebrew/lib/python3.10/site-packages (1.1.3)\n",
      "Requirement already satisfied: scipy in /opt/homebrew/lib/python3.10/site-packages (1.9.3)\n",
      "Requirement already satisfied: seaborn in /opt/homebrew/lib/python3.10/site-packages (0.12.1)\n",
      "Requirement already satisfied: nltk in /opt/homebrew/lib/python3.10/site-packages (3.7)\n",
      "Requirement already satisfied: cycler>=0.10 in /opt/homebrew/lib/python3.10/site-packages (from matplotlib) (0.11.0)\n",
      "Requirement already satisfied: packaging>=20.0 in /Users/mattsteele/Library/Python/3.10/lib/python/site-packages (from matplotlib) (21.3)\n",
      "Requirement already satisfied: contourpy>=1.0.1 in /opt/homebrew/lib/python3.10/site-packages (from matplotlib) (1.0.6)\n",
      "Requirement already satisfied: pillow>=6.2.0 in /opt/homebrew/lib/python3.10/site-packages (from matplotlib) (9.3.0)\n",
      "Requirement already satisfied: pyparsing>=2.2.1 in /Users/mattsteele/Library/Python/3.10/lib/python/site-packages (from matplotlib) (3.0.9)\n",
      "Requirement already satisfied: fonttools>=4.22.0 in /opt/homebrew/lib/python3.10/site-packages (from matplotlib) (4.38.0)\n",
      "Requirement already satisfied: kiwisolver>=1.0.1 in /opt/homebrew/lib/python3.10/site-packages (from matplotlib) (1.4.4)\n",
      "Requirement already satisfied: python-dateutil>=2.7 in /Users/mattsteele/Library/Python/3.10/lib/python/site-packages (from matplotlib) (2.8.2)\n",
      "Requirement already satisfied: threadpoolctl>=2.0.0 in /opt/homebrew/lib/python3.10/site-packages (from scikit-learn) (3.1.0)\n",
      "Requirement already satisfied: joblib>=1.0.0 in /opt/homebrew/lib/python3.10/site-packages (from scikit-learn) (1.2.0)\n",
      "Requirement already satisfied: pandas>=0.25 in /opt/homebrew/lib/python3.10/site-packages (from seaborn) (1.5.2)\n",
      "Requirement already satisfied: click in /opt/homebrew/lib/python3.10/site-packages (from nltk) (8.1.3)\n",
      "Requirement already satisfied: regex>=2021.8.3 in /opt/homebrew/lib/python3.10/site-packages (from nltk) (2022.10.31)\n",
      "Requirement already satisfied: tqdm in /opt/homebrew/lib/python3.10/site-packages (from nltk) (4.64.1)\n",
      "Requirement already satisfied: pytz>=2020.1 in /opt/homebrew/lib/python3.10/site-packages (from pandas>=0.25->seaborn) (2022.6)\n",
      "Requirement already satisfied: six>=1.5 in /Users/mattsteele/Library/Python/3.10/lib/python/site-packages (from python-dateutil>=2.7->matplotlib) (1.16.0)\n"
     ]
    }
   ],
   "source": [
    "import sys\n",
    "!{sys.executable} -m pip install numpy matplotlib scikit-learn scipy seaborn nltk\n",
    "\n",
    "import numpy as np \n",
    "import pandas as pd \n",
    "import matplotlib.pyplot as plt\n",
    "import seaborn as sns\n",
    "from sklearn.feature_extraction import text\n",
    "from sklearn.feature_extraction.text import TfidfVectorizer\n",
    "from sklearn.cluster import KMeans\n",
    "from nltk.tokenize import RegexpTokenizer\n",
    "from nltk.stem.snowball import SnowballStemmer\n",
    "%matplotlib inline"
   ]
  },
  {
   "cell_type": "markdown",
   "metadata": {},
   "source": [
    "Prepping data by deleting duplicate headlines to avoid giving kmeans clustering higher weighted datapoints"
   ]
  },
  {
   "cell_type": "code",
   "execution_count": 6,
   "metadata": {},
   "outputs": [
    {
     "data": {
      "text/html": [
       "<div>\n",
       "<style scoped>\n",
       "    .dataframe tbody tr th:only-of-type {\n",
       "        vertical-align: middle;\n",
       "    }\n",
       "\n",
       "    .dataframe tbody tr th {\n",
       "        vertical-align: top;\n",
       "    }\n",
       "\n",
       "    .dataframe thead th {\n",
       "        text-align: right;\n",
       "    }\n",
       "</style>\n",
       "<table border=\"1\" class=\"dataframe\">\n",
       "  <thead>\n",
       "    <tr style=\"text-align: right;\">\n",
       "      <th></th>\n",
       "      <th>headline_text</th>\n",
       "    </tr>\n",
       "  </thead>\n",
       "  <tbody>\n",
       "    <tr>\n",
       "      <th>151</th>\n",
       "      <td>resource stocks boost all ords</td>\n",
       "    </tr>\n",
       "    <tr>\n",
       "      <th>320</th>\n",
       "      <td>man in hospital after stabbing attack</td>\n",
       "    </tr>\n",
       "    <tr>\n",
       "      <th>322</th>\n",
       "      <td>man on murder charge refused bail</td>\n",
       "    </tr>\n",
       "    <tr>\n",
       "      <th>351</th>\n",
       "      <td>oil prices hit new high</td>\n",
       "    </tr>\n",
       "    <tr>\n",
       "      <th>360</th>\n",
       "      <td>pilot makes emergency landing at adelaide airport</td>\n",
       "    </tr>\n",
       "  </tbody>\n",
       "</table>\n",
       "</div>"
      ],
      "text/plain": [
       "                                         headline_text\n",
       "151                     resource stocks boost all ords\n",
       "320              man in hospital after stabbing attack\n",
       "322                  man on murder charge refused bail\n",
       "351                            oil prices hit new high\n",
       "360  pilot makes emergency landing at adelaide airport"
      ]
     },
     "execution_count": 6,
     "metadata": {},
     "output_type": "execute_result"
    }
   ],
   "source": [
    "data = pd.read_csv(\"../data/abcnews-date-text.csv\", usecols =[\"headline_text\"])\n",
    "data = data[data['headline_text'].duplicated(keep=False)].drop_duplicates('headline_text')\n",
    "\n",
    "data.head(5)"
   ]
  },
  {
   "cell_type": "markdown",
   "metadata": {},
   "source": [
    "Vectorization of the data for NLP."
   ]
  },
  {
   "cell_type": "code",
   "execution_count": 9,
   "metadata": {},
   "outputs": [
    {
     "name": "stdout",
     "output_type": "stream",
     "text": [
      "7473\n",
      "['aaa', 'aaco', 'aamer', 'aaron', 'ab', 'abalone', 'abares', 'abattoir', 'abbot', 'abbott', 'abbotts', 'abc', 'abcnews', 'abcs', 'abduction', 'abductions', 'abercrombie', 'abeysinghes', 'ablett', 'aboard', 'aboriginal', 'aborted', 'abs', 'abu', 'aburizal', 'abuse', 'abusing', 'accc', 'accents', 'access', 'accident', 'accidents', 'accounts', 'accuse', 'accused', 'accuses', 'accy', 'aceh', 'acknowledge', 'acland', 'acoss', 'acquired', 'acquit', 'acquitted', 'acropolis', 'act', 'actew', 'action', 'activist', 'activity', 'ad', 'adam', 'adani', 'adapting', 'addresses', 'adds', 'adelaide', 'adjourned', 'admits', 'adoptions', 'adrian', 'adriana', 'adrienne', 'ads', 'advance', 'advances', 'adventure', 'adverse', 'adversity', 'advised', 'advisor', 'aerials', 'aerosol', 'affair', 'affairs', 'affected', 'affecting', 'afford', 'affordability', 'affordable', 'afghan', 'afghanistan', 'afl', 'africa', 'afridi', 'aftermath', 'ag', 'agar', 'age', 'aged', 'agencies', 'agenda', 'agm', 'ago', 'agree', 'agreement', 'agrees', 'agricultural', 'agriculture', 'ahead']\n"
     ]
    }
   ],
   "source": [
    "# Punctiation to separate words for vecotrization\n",
    "punctuation = ['.', ',', '\"', \"'\", '?', '!', ':', ';', '(', ')', '[', ']', '{', '}',\"%\"]\n",
    "# Words that are uninformative like 'and' 'or' 'but' \n",
    "stop_words = text.ENGLISH_STOP_WORDS.union(punctuation)\n",
    "\n",
    "desc = data['headline_text'].values\n",
    "vectorizer = TfidfVectorizer(stop_words = stop_words)\n",
    "\n",
    "X = vectorizer.fit_transform(desc)\n",
    "\n",
    "# Show some sample words that areextracted from the vecotrization\n",
    "features = vectorizer.get_feature_names()\n",
    "print(len(features))\n",
    "print(features[100:200])"
   ]
  },
  {
   "cell_type": "markdown",
   "metadata": {},
   "source": [
    "Stemming words. Combining words that are all related like 'read' 'reading' etc. Token breaks the sentence into the words and punctiation."
   ]
  },
  {
   "cell_type": "code",
   "execution_count": 13,
   "metadata": {},
   "outputs": [
    {
     "name": "stdout",
     "output_type": "stream",
     "text": [
      "6069\n",
      "['aaa', 'aaco', 'aamer', 'aaron', 'ab', 'abalon', 'abar', 'abattoir', 'abbot', 'abbott', 'abc', 'abcnew', 'abduct', 'abercrombi', 'abeysingh', 'ablett', 'aboard', 'aborigin', 'abort', 'abov', 'abu', 'aburiz', 'abus', 'accc', 'accent', 'access', 'acci', 'accid', 'account', 'accus', 'aceh', 'acknowledg', 'acland', 'acoss', 'acquir', 'acquit', 'acropoli', 'act', 'actew', 'action', 'activ', 'activist', 'ad', 'adam', 'adani', 'adapt', 'add', 'address', 'adelaid', 'adjourn']\n"
     ]
    }
   ],
   "source": [
    "# Use predefined stemmers and tokenizers\n",
    "stem = SnowballStemmer('english')\n",
    "token = RegexpTokenizer(r'[a-zA-Z\\']+')\n",
    "\n",
    "def tokenize(text):\n",
    "    # Returns the array of stemmed words from the tokenized text\n",
    "    return [stem.stem(word) for word in token.tokenize(text.lower())]\n",
    "\n",
    "vectorizer2 = TfidfVectorizer(stop_words = stop_words, tokenizer = tokenize)\n",
    "X2 = vectorizer2.fit_transform(desc)\n",
    "word_features2 = vectorizer2.get_feature_names()\n",
    "\n",
    "# Can see there are almost 1500 words that are stemmed into other words\n",
    "print(len(word_features2))\n",
    "print(word_features2[:50]) \n",
    "\n",
    "# Compressed tokenizer into only 1000 stem words\n",
    "vectorizer3 = TfidfVectorizer(stop_words = stop_words, tokenizer = tokenize, max_features = 1000)\n",
    "X3 = vectorizer3.fit_transform(desc)\n",
    "words = vectorizer3.get_feature_names()"
   ]
  },
  {
   "cell_type": "markdown",
   "metadata": {},
   "source": [
    "Kmeans useing the elbow method. We could also do the silloette method"
   ]
  },
  {
   "cell_type": "code",
   "execution_count": 19,
   "metadata": {},
   "outputs": [
    {
     "data": {
      "image/png": "[encoded data removed]",
      "text/plain": [
       "<Figure size 640x480 with 1 Axes>"
      ]
     },
     "metadata": {},
     "output_type": "display_data"
    }
   ],
   "source": [
    "from sklearn.cluster import KMeans\n",
    "wcss = []\n",
    "for i in range(1,11):\n",
    "    kmeans = KMeans(n_clusters=i,init='k-means++',max_iter=300,n_init=10)\n",
    "    kmeans.fit(X3)\n",
    "    wcss.append(kmeans.inertia_)\n",
    "plt.plot(range(1,11),wcss)\n",
    "plt.title('The Elbow Method')\n",
    "plt.xlabel('Number of clusters')\n",
    "plt.ylabel('WCSS')\n",
    "plt.savefig('elbow.png')\n",
    "plt.show()"
   ]
  },
  {
   "cell_type": "markdown",
   "metadata": {},
   "source": [
    "8 looks like a good choice"
   ]
  },
  {
   "cell_type": "code",
   "execution_count": 20,
   "metadata": {},
   "outputs": [
    {
     "name": "stdout",
     "output_type": "stream",
     "text": [
      "0 : interview, extend, nrl, michael, mark, luke, andrew, jame, ben, afl, john, matt, chris, daniel, steve, paul, nathan, david, scott, peter, adam, matthew, josh, nick, smith\n",
      "1 : man, media, charg, crash, kill, miss, die, court, murder, speak, busi, news, interview, car, new, rate, search, continu, report, australia, accus, sydney, australian, win, warn\n",
      "2 : polic, probe, investig, miss, man, hunt, crash, search, fatal, victim, seek, wit, car, bandit, road, death, assault, driver, pursuit, charg, offic, arm, shoot, teen, plead\n",
      "3 : woman, hous, die, miss, charg, stab, car, crash, blaze, elder, polic, man, price, murder, kill, famili, hit, search, hospit, fatal, escap, fear, court, bodi, burn\n",
      "4 : grandstand, breakfast, august, juli, march, novemb, decemb, septemb, june, april, octob, stump, februari, januari, day, tuesday, tv, rod, tasmania, canberra, act, sport, sa, thursday, south\n",
      "5 : market, share, close, local, higher, lower, wednesday, australian, tuesday, monday, bank, friday, wrap, thursday, open, drag, world, end, week, wall, global, high, resourc, gain, livestock\n",
      "6 : drum, thursday, wednesday, monday, septemb, friday, octob, tuesday, august, novemb, june, april, juli, decemb, februari, march, shark, pope, wrap, fix, fisherman, fish, fiona, fishermen, firefight\n",
      "7 : day, vs, summari, test, highlight, session, ash, australia, tiger, redback, second, bushrang, bull, warrior, blue, india, stump, fourth, blog, pakistan, grandstand, live, indi, fifth, england\n"
     ]
    }
   ],
   "source": [
    "kmeans = KMeans(n_clusters = 8,n_init = 20)\n",
    "kmeans.fit(X3)\n",
    "# Finally, we look at 8 the clusters generated by k-means.\n",
    "common_words = kmeans.cluster_centers_.argsort()[:,-1:-26:-1]\n",
    "for num, centroid in enumerate(common_words):\n",
    "    print(str(num) + ' : ' + ', '.join(words[word] for word in centroid))"
   ]
  },
  {
   "cell_type": "markdown",
   "metadata": {},
   "source": [
    "Breakdown\n",
    "\n",
    "0) Celebrity interview\n",
    "1) Local news\n",
    "2) Criminal news\n",
    "3) More criminal news\n",
    "4) Months\n",
    "5) Finance and markets\n",
    "6) Weird one with days of the week\n",
    "7) Sports"
   ]
  }
 ],
 "metadata": {
  "kernelspec": {
   "display_name": "Python 3.10.6 64-bit",
   "language": "python",
   "name": "python3"
  },
  "language_info": {
   "codemirror_mode": {
    "name": "ipython",
    "version": 3
   },
   "file_extension": ".py",
   "mimetype": "text/x-python",
   "name": "python",
   "nbconvert_exporter": "python",
   "pygments_lexer": "ipython3",
   "version": "3.10.6"
  },
  "orig_nbformat": 4,
  "vscode": {
   "interpreter": {
    "hash": "b0fa6594d8f4cbf19f97940f81e996739fb7646882a419484c72d19e05852a7e"
   }
  }
 },
 "nbformat": 4,
 "nbformat_minor": 2
}
