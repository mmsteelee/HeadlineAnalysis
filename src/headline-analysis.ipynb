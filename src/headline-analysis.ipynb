{
 "cells": [
  {
   "cell_type": "markdown",
   "metadata": {},
   "source": [
    "# Headline Analysis\n",
    "\n",
    "We have 2 news headline datasets,\n",
    "1. data/News_Category_Dataset_v3.json \n",
    "    - HuffPost\n",
    "    - 210,294 records between 2012 and 2022\n",
    "    - Attributes: (category, headline, authors, link, short_description, date)\n",
    "2. data/abcnews-date-text.csv \n",
    "    - Australian ABC\n",
    "    - 1,103,665 records between 2003 and 2021\n",
    "    - Attributes: (headline, date)"
   ]
  },
  {
   "cell_type": "markdown",
   "metadata": {},
   "source": [
    "1) First we will work on the Australian ABC dataset and do a Kmeans clustering, we will look at the clusters and see what type of news headline it is. (Use reference/k-means-clustering...)\n",
    "\n",
    "2) Second we will work on the HuffPost dataset which has a category attribute. We will then make a model predicting a headlines category (forget about authors, link short description and date). (Use reference/nlp-news-articles...)\n",
    "\n",
    "3) Third we will use the model in 2 to predict the headlines in 1 and compare the models predictions with the Kmeans categroy it's put in\n",
    "\n",
    "4) Future Possibilities\n",
    "-   Sentiment analysis and prediction on each of the categories (kmeans category and predifined categories)\n",
    "-   Talk about real world utilization of Headline analysis (stock market prediction etc)\n",
    "    -   If a headline mentions a company and is in the business category we can use the sentiment to 'skim' the idea\n",
    "-   Use the time attributes of the headlines to predict the categroy of news on a certain day\n",
    "-   Do a correlation report between the clusters by finding the closest cluster means to a data point"
   ]
  },
  {
   "cell_type": "markdown",
   "metadata": {},
   "source": [
    "### (1) K-means "
   ]
  },
  {
   "cell_type": "code",
   "execution_count": 7,
   "metadata": {},
   "outputs": [
    {
     "name": "stdout",
     "output_type": "stream",
     "text": [
      "Requirement already satisfied: numpy in c:\\users\\nicole\\appdata\\local\\programs\\python\\python38\\lib\\site-packages (1.19.5)\n",
      "Requirement already satisfied: matplotlib in c:\\users\\nicole\\appdata\\local\\programs\\python\\python38\\lib\\site-packages (3.3.4)\n",
      "Requirement already satisfied: scikit-learn in c:\\users\\nicole\\appdata\\local\\programs\\python\\python38\\lib\\site-packages (0.24.2)\n",
      "Requirement already satisfied: scipy in c:\\users\\nicole\\appdata\\local\\programs\\python\\python38\\lib\\site-packages (1.6.0)\n",
      "Requirement already satisfied: seaborn in c:\\users\\nicole\\appdata\\local\\programs\\python\\python38\\lib\\site-packages (0.11.1)\n",
      "Requirement already satisfied: nltk in c:\\users\\nicole\\appdata\\local\\programs\\python\\python38\\lib\\site-packages (3.7)\n",
      "Requirement already satisfied: pyparsing!=2.0.4,!=2.1.2,!=2.1.6,>=2.0.3 in c:\\users\\nicole\\appdata\\local\\programs\\python\\python38\\lib\\site-packages (from matplotlib) (2.4.7)\n",
      "Requirement already satisfied: python-dateutil>=2.1 in c:\\users\\nicole\\appdata\\local\\programs\\python\\python38\\lib\\site-packages (from matplotlib) (2.8.1)\n",
      "Requirement already satisfied: pillow>=6.2.0 in c:\\users\\nicole\\appdata\\local\\programs\\python\\python38\\lib\\site-packages (from matplotlib) (8.1.0)\n",
      "Requirement already satisfied: cycler>=0.10 in c:\\users\\nicole\\appdata\\local\\programs\\python\\python38\\lib\\site-packages (from matplotlib) (0.10.0)\n",
      "Requirement already satisfied: kiwisolver>=1.0.1 in c:\\users\\nicole\\appdata\\local\\programs\\python\\python38\\lib\\site-packages (from matplotlib) (1.3.1)\n",
      "Requirement already satisfied: threadpoolctl>=2.0.0 in c:\\users\\nicole\\appdata\\local\\programs\\python\\python38\\lib\\site-packages (from scikit-learn) (2.1.0)\n",
      "Requirement already satisfied: joblib>=0.11 in c:\\users\\nicole\\appdata\\local\\programs\\python\\python38\\lib\\site-packages (from scikit-learn) (1.0.1)\n",
      "Requirement already satisfied: pandas>=0.23 in c:\\users\\nicole\\appdata\\local\\programs\\python\\python38\\lib\\site-packages (from seaborn) (1.2.1)\n",
      "Requirement already satisfied: tqdm in c:\\users\\nicole\\appdata\\local\\programs\\python\\python38\\lib\\site-packages (from nltk) (4.64.1)\n",
      "Requirement already satisfied: regex>=2021.8.3 in c:\\users\\nicole\\appdata\\local\\programs\\python\\python38\\lib\\site-packages (from nltk) (2022.10.31)\n",
      "Requirement already satisfied: click in c:\\users\\nicole\\appdata\\local\\programs\\python\\python38\\lib\\site-packages (from nltk) (8.1.3)\n",
      "Requirement already satisfied: six in c:\\users\\nicole\\appdata\\local\\programs\\python\\python38\\lib\\site-packages (from cycler>=0.10->matplotlib) (1.15.0)\n",
      "Requirement already satisfied: pytz>=2017.3 in c:\\users\\nicole\\appdata\\local\\programs\\python\\python38\\lib\\site-packages (from pandas>=0.23->seaborn) (2021.1)\n",
      "Requirement already satisfied: colorama in c:\\users\\nicole\\appdata\\roaming\\python\\python38\\site-packages (from click->nltk) (0.4.4)\n"
     ]
    }
   ],
   "source": [
    "import sys\n",
    "!{sys.executable} -m pip install numpy matplotlib scikit-learn scipy seaborn nltk\n",
    "\n",
    "import numpy as np \n",
    "import pandas as pd \n",
    "import matplotlib.pyplot as plt\n",
    "import seaborn as sns\n",
    "from sklearn.feature_extraction import text\n",
    "from sklearn.feature_extraction.text import TfidfVectorizer\n",
    "from sklearn.cluster import KMeans\n",
    "from nltk.tokenize import RegexpTokenizer\n",
    "from nltk.stem.snowball import SnowballStemmer\n",
    "%matplotlib inline"
   ]
  },
  {
   "cell_type": "markdown",
   "metadata": {},
   "source": [
    "Prepping data by deleting duplicate headlines to avoid giving kmeans clustering higher weighted datapoints"
   ]
  },
  {
   "cell_type": "code",
   "execution_count": 8,
   "metadata": {},
   "outputs": [
    {
     "data": {
      "text/html": [
       "<div>\n",
       "<style scoped>\n",
       "    .dataframe tbody tr th:only-of-type {\n",
       "        vertical-align: middle;\n",
       "    }\n",
       "\n",
       "    .dataframe tbody tr th {\n",
       "        vertical-align: top;\n",
       "    }\n",
       "\n",
       "    .dataframe thead th {\n",
       "        text-align: right;\n",
       "    }\n",
       "</style>\n",
       "<table border=\"1\" class=\"dataframe\">\n",
       "  <thead>\n",
       "    <tr style=\"text-align: right;\">\n",
       "      <th></th>\n",
       "      <th>headline_text</th>\n",
       "    </tr>\n",
       "  </thead>\n",
       "  <tbody>\n",
       "    <tr>\n",
       "      <th>151</th>\n",
       "      <td>resource stocks boost all ords</td>\n",
       "    </tr>\n",
       "    <tr>\n",
       "      <th>320</th>\n",
       "      <td>man in hospital after stabbing attack</td>\n",
       "    </tr>\n",
       "    <tr>\n",
       "      <th>322</th>\n",
       "      <td>man on murder charge refused bail</td>\n",
       "    </tr>\n",
       "    <tr>\n",
       "      <th>351</th>\n",
       "      <td>oil prices hit new high</td>\n",
       "    </tr>\n",
       "    <tr>\n",
       "      <th>360</th>\n",
       "      <td>pilot makes emergency landing at adelaide airport</td>\n",
       "    </tr>\n",
       "  </tbody>\n",
       "</table>\n",
       "</div>"
      ],
      "text/plain": [
       "                                         headline_text\n",
       "151                     resource stocks boost all ords\n",
       "320              man in hospital after stabbing attack\n",
       "322                  man on murder charge refused bail\n",
       "351                            oil prices hit new high\n",
       "360  pilot makes emergency landing at adelaide airport"
      ]
     },
     "execution_count": 8,
     "metadata": {},
     "output_type": "execute_result"
    }
   ],
   "source": [
    "data = pd.read_csv(\"../data/abcnews-date-text.csv\", usecols =[\"headline_text\"])\n",
    "data = data[data['headline_text'].duplicated(keep=False)].drop_duplicates('headline_text')\n",
    "\n",
    "data.head(5)"
   ]
  },
  {
   "cell_type": "markdown",
   "metadata": {},
   "source": [
    "Vectorization of the data for NLP."
   ]
  },
  {
   "cell_type": "code",
   "execution_count": 9,
   "metadata": {},
   "outputs": [
    {
     "name": "stdout",
     "output_type": "stream",
     "text": [
      "['resource stocks boost all ords' 'man in hospital after stabbing attack'\n",
      " 'man on murder charge refused bail' ...\n",
      " 'at least five species of burrowing frogs have been'\n",
      " 'farms continue to rebuild two years after black'\n",
      " 'study finds most people woefully unprepared for']\n",
      "7473\n",
      "['aaa', 'aaco', 'aamer', 'aaron', 'ab', 'abalone', 'abares', 'abattoir', 'abbot', 'abbott', 'abbotts', 'abc', 'abcnews', 'abcs', 'abduction', 'abductions', 'abercrombie', 'abeysinghes', 'ablett', 'aboard', 'aboriginal', 'aborted', 'abs', 'abu', 'aburizal', 'abuse', 'abusing', 'accc', 'accents', 'access', 'accident', 'accidents', 'accounts', 'accuse', 'accused', 'accuses', 'accy', 'aceh', 'acknowledge', 'acland', 'acoss', 'acquired', 'acquit', 'acquitted', 'acropolis', 'act', 'actew', 'action', 'activist', 'activity', 'ad', 'adam', 'adani', 'adapting', 'addresses', 'adds', 'adelaide', 'adjourned', 'admits', 'adoptions', 'adrian', 'adriana', 'adrienne', 'ads', 'advance', 'advances', 'adventure', 'adverse', 'adversity', 'advised', 'advisor', 'aerials', 'aerosol', 'affair', 'affairs', 'affected', 'affecting', 'afford', 'affordability', 'affordable', 'afghan', 'afghanistan', 'afl', 'africa', 'afridi', 'aftermath', 'ag', 'agar', 'age', 'aged', 'agencies', 'agenda', 'agm', 'ago', 'agree', 'agreement', 'agrees', 'agricultural', 'agriculture', 'ahead']\n"
     ]
    }
   ],
   "source": [
    "# Punctiation to separate words for vecotrization\n",
    "punctuation = ['.', ',', '\"', \"'\", '?', '!', ':', ';', '(', ')', '[', ']', '{', '}',\"%\"]\n",
    "# Words that are uninformative like 'and' 'or' 'but' \n",
    "stop_words = text.ENGLISH_STOP_WORDS.union(punctuation)\n",
    "\n",
    "desc = data['headline_text'].values\n",
    "vectorizer = TfidfVectorizer(stop_words = stop_words)\n",
    "\n",
    "X = vectorizer.fit_transform(desc)\n",
    "print(desc)\n",
    "# Show some sample words that areextracted from the vecotrization\n",
    "features = vectorizer.get_feature_names()\n",
    "print(len(features))\n",
    "print(features[100:200])"
   ]
  },
  {
   "cell_type": "markdown",
   "metadata": {},
   "source": [
    "Stemming words. Combining words that are all related like 'read' 'reading' etc. Token breaks the sentence into the words and punctiation."
   ]
  },
  {
   "cell_type": "code",
   "execution_count": 10,
   "metadata": {},
   "outputs": [
    {
     "name": "stderr",
     "output_type": "stream",
     "text": [
      "c:\\Users\\Nicole\\AppData\\Local\\Programs\\Python\\Python38\\lib\\site-packages\\sklearn\\feature_extraction\\text.py:388: UserWarning: Your stop_words may be inconsistent with your preprocessing. Tokenizing the stop words generated tokens ['abov', 'afterward', 'alon', 'alreadi', 'alway', 'ani', 'anoth', 'anyon', 'anyth', 'anywher', 'becam', 'becaus', 'becom', 'befor', 'besid', 'cri', 'describ', 'dure', 'els', 'elsewher', 'empti', 'everi', 'everyon', 'everyth', 'everywher', 'fifti', 'forti', 'henc', 'hereaft', 'herebi', 'howev', 'hundr', 'inde', 'mani', 'meanwhil', 'moreov', 'nobodi', 'noon', 'noth', 'nowher', 'onc', 'onli', 'otherwis', 'ourselv', 'perhap', 'pleas', 'sever', 'sinc', 'sincer', 'sixti', 'someon', 'someth', 'sometim', 'somewher', 'themselv', 'thenc', 'thereaft', 'therebi', 'therefor', 'togeth', 'twelv', 'twenti', 'veri', 'whatev', 'whenc', 'whenev', 'wherea', 'whereaft', 'wherebi', 'wherev', 'whi', 'yourselv'] not in stop_words.\n",
      "  warnings.warn('Your stop_words may be inconsistent with '\n"
     ]
    },
    {
     "name": "stdout",
     "output_type": "stream",
     "text": [
      "6069\n",
      "['aaa', 'aaco', 'aamer', 'aaron', 'ab', 'abalon', 'abar', 'abattoir', 'abbot', 'abbott', 'abc', 'abcnew', 'abduct', 'abercrombi', 'abeysingh', 'ablett', 'aboard', 'aborigin', 'abort', 'abov', 'abu', 'aburiz', 'abus', 'accc', 'accent', 'access', 'acci', 'accid', 'account', 'accus', 'aceh', 'acknowledg', 'acland', 'acoss', 'acquir', 'acquit', 'acropoli', 'act', 'actew', 'action', 'activ', 'activist', 'ad', 'adam', 'adani', 'adapt', 'add', 'address', 'adelaid', 'adjourn']\n"
     ]
    }
   ],
   "source": [
    "# Use predefined stemmers and tokenizers\n",
    "stem = SnowballStemmer('english')\n",
    "token = RegexpTokenizer(r'[a-zA-Z\\']+')\n",
    "\n",
    "def tokenize(text):\n",
    "    # Returns the array of stemmed words from the tokenized text\n",
    "    return [stem.stem(word) for word in token.tokenize(text.lower())]\n",
    "\n",
    "vectorizer2 = TfidfVectorizer(stop_words = stop_words, tokenizer = tokenize)\n",
    "X2 = vectorizer2.fit_transform(desc)\n",
    "word_features2 = vectorizer2.get_feature_names()\n",
    "\n",
    "# Can see there are almost 1500 words that are stemmed into other words\n",
    "print(len(word_features2))\n",
    "print(word_features2[:50]) \n",
    "\n",
    "# Compressed tokenizer into only 1000 stem words\n",
    "vectorizer3 = TfidfVectorizer(stop_words = stop_words, tokenizer = tokenize, max_features = 1000)\n",
    "X3 = vectorizer3.fit_transform(desc)\n",
    "words = vectorizer3.get_feature_names()"
   ]
  },
  {
   "cell_type": "markdown",
   "metadata": {},
   "source": [
    "Kmeans using the elbow method. We could also do the silloette method"
   ]
  },
  {
   "cell_type": "code",
   "execution_count": 11,
   "metadata": {},
   "outputs": [
    {
     "data": {
      "image/png": "[encoded data removed]",
      "text/plain": [
       "<Figure size 432x288 with 1 Axes>"
      ]
     },
     "metadata": {
      "needs_background": "light"
     },
     "output_type": "display_data"
    }
   ],
   "source": [
    "from sklearn.cluster import KMeans\n",
    "wcss = []\n",
    "for i in range(1,11):\n",
    "    kmeans = KMeans(n_clusters=i,init='k-means++',max_iter=300,n_init=10)\n",
    "    kmeans.fit(X3)\n",
    "    wcss.append(kmeans.inertia_)\n",
    "plt.plot(range(1,11),wcss)\n",
    "plt.title('The Elbow Method')\n",
    "plt.xlabel('Number of clusters')\n",
    "plt.ylabel('WCSS')\n",
    "plt.savefig('elbow.png')\n",
    "plt.show()"
   ]
  },
  {
   "cell_type": "code",
   "execution_count": 12,
   "metadata": {},
   "outputs": [
    {
     "data": {
      "text/plain": [
       "'\\nfrom sklearn.metrics import silhouette_samples, silhouette_score\\nimport matplotlib.cm as cm\\n\\nrange_n_clusters = range(6, 11)\\n\\nfor n_clusters in range_n_clusters:\\n    fig, (ax1) = plt.subplots()\\n    fig.set_size_inches(18, 7)\\n    ax1.set_xlim([-.1, 0.5])\\n    ax1.set_ylim([0, X3.shape[0] + (n_clusters + 1) * 10])\\n\\n    clusterer = KMeans(n_clusters=n_clusters, random_state=10)\\n    cluster_labels = clusterer.fit_predict(X3)\\n    silhouette_avg = silhouette_score(X3, labels=cluster_labels)\\n    \\n    print(\\n        \"For n_clusters =\",\\n        n_clusters,\\n        \"The average silhouette_score is :\",\\n        silhouette_avg,\\n    )\\n\\n    sample_silhouette_values = silhouette_samples(X, cluster_labels)\\n\\n    y_lower = 10\\n    max_size_cluster = 0\\n    bigest_size_index = 0\\n    for i in range(n_clusters):\\n        ith_cluster_silhouette_values = sample_silhouette_values[cluster_labels == i]\\n        ith_cluster_silhouette_values.sort()\\n        size_cluster_i = ith_cluster_silhouette_values.shape[0]\\n        if size_cluster_i > max_size_cluster:\\n            max_size_cluster = size_cluster_i\\n            bigest_size_index = i\\n\\n        y_upper = y_lower + size_cluster_i\\n        color = cm.nipy_spectral(float(i) / n_clusters)\\n        ax1.fill_betweenx(\\n            np.arange(y_lower, y_upper),\\n            0,\\n            ith_cluster_silhouette_values,\\n            facecolor=color,\\n            edgecolor=color,\\n            alpha=0.7,\\n        )\\n\\n        ax1.text(-0.05, y_lower + 0.5 * size_cluster_i, str(i))\\n        y_lower = y_upper + 10  \\n\\n    ax1.set_title(\"The silhouette plot for the various clusters.\")\\n    ax1.set_xlabel(\"The silhouette coefficient values\")\\n    ax1.set_ylabel(\"Cluster label\")\\n\\n    ax1.axvline(x=silhouette_avg, color=\"red\", linestyle=\"--\")\\n    ax1.set_yticks([])  # Clear the yaxis labels / ticks\\n    ax1.set_xticks([-0.1, 0, 0.2, 0.4, 0.6, 0.8, 1])\\n    \\n    plt.suptitle(\\n        \"Silhouette analysis for KMeans clustering on sample data with n_clusters = %d\"\\n        % n_clusters,\\n        fontsize=14,\\n        fontweight=\"bold\",\\n    )\\n\\nplt.show()\\n'"
      ]
     },
     "execution_count": 12,
     "metadata": {},
     "output_type": "execute_result"
    }
   ],
   "source": [
    "\"\"\"\n",
    "from sklearn.metrics import silhouette_samples, silhouette_score\n",
    "import matplotlib.cm as cm\n",
    "\n",
    "range_n_clusters = range(6, 11)\n",
    "\n",
    "for n_clusters in range_n_clusters:\n",
    "    fig, (ax1) = plt.subplots()\n",
    "    fig.set_size_inches(18, 7)\n",
    "    ax1.set_xlim([-.1, 0.5])\n",
    "    ax1.set_ylim([0, X3.shape[0] + (n_clusters + 1) * 10])\n",
    "\n",
    "    clusterer = KMeans(n_clusters=n_clusters, random_state=10)\n",
    "    cluster_labels = clusterer.fit_predict(X3)\n",
    "    silhouette_avg = silhouette_score(X3, labels=cluster_labels)\n",
    "    \n",
    "    print(\n",
    "        \"For n_clusters =\",\n",
    "        n_clusters,\n",
    "        \"The average silhouette_score is :\",\n",
    "        silhouette_avg,\n",
    "    )\n",
    "\n",
    "    sample_silhouette_values = silhouette_samples(X, cluster_labels)\n",
    "\n",
    "    y_lower = 10\n",
    "    max_size_cluster = 0\n",
    "    bigest_size_index = 0\n",
    "    for i in range(n_clusters):\n",
    "        ith_cluster_silhouette_values = sample_silhouette_values[cluster_labels == i]\n",
    "        ith_cluster_silhouette_values.sort()\n",
    "        size_cluster_i = ith_cluster_silhouette_values.shape[0]\n",
    "        if size_cluster_i > max_size_cluster:\n",
    "            max_size_cluster = size_cluster_i\n",
    "            bigest_size_index = i\n",
    "\n",
    "        y_upper = y_lower + size_cluster_i\n",
    "        color = cm.nipy_spectral(float(i) / n_clusters)\n",
    "        ax1.fill_betweenx(\n",
    "            np.arange(y_lower, y_upper),\n",
    "            0,\n",
    "            ith_cluster_silhouette_values,\n",
    "            facecolor=color,\n",
    "            edgecolor=color,\n",
    "            alpha=0.7,\n",
    "        )\n",
    "\n",
    "        ax1.text(-0.05, y_lower + 0.5 * size_cluster_i, str(i))\n",
    "        y_lower = y_upper + 10  \n",
    "\n",
    "    ax1.set_title(\"The silhouette plot for the various clusters.\")\n",
    "    ax1.set_xlabel(\"The silhouette coefficient values\")\n",
    "    ax1.set_ylabel(\"Cluster label\")\n",
    "\n",
    "    ax1.axvline(x=silhouette_avg, color=\"red\", linestyle=\"--\")\n",
    "    ax1.set_yticks([])  # Clear the yaxis labels / ticks\n",
    "    ax1.set_xticks([-0.1, 0, 0.2, 0.4, 0.6, 0.8, 1])\n",
    "    \n",
    "    plt.suptitle(\n",
    "        \"Silhouette analysis for KMeans clustering on sample data with n_clusters = %d\"\n",
    "        % n_clusters,\n",
    "        fontsize=14,\n",
    "        fontweight=\"bold\",\n",
    "    )\n",
    "\n",
    "plt.show()\n",
    "\"\"\""
   ]
  },
  {
   "cell_type": "markdown",
   "metadata": {},
   "source": [
    "We can see that the more clusters we add, the more specialized the categories get as shown by the high silhouette scores. This means the data does not follow easy gaussian distributions that can be separable by kmeans. One can see there is always a single category that is bigger than others and has low silhouette scores. We will try spectral clustering and see if we gain any sucess there."
   ]
  },
  {
   "cell_type": "markdown",
   "metadata": {},
   "source": [
    "9 looks like a good choice. Lets do a kmeans clustering and see the top 25 words in each cluster. Then give a few example headlines from each"
   ]
  },
  {
   "cell_type": "code",
   "execution_count": 13,
   "metadata": {},
   "outputs": [
    {
     "name": "stdout",
     "output_type": "stream",
     "text": [
      "0 : day, vs, summari, test, highlight, session, ash, australia, tiger, redback, second, bushrang, bull, warrior, blue, stump, india, grandstand, fourth, blog, pakistan, live, indi, fifth, england\n",
      "1 : market, share, close, local, higher, lower, wednesday, australian, tuesday, monday, bank, friday, wrap, thursday, open, drag, world, end, week, wall, global, high, resourc, gain, livestock\n",
      "2 : crash, miss, kill, speak, busi, interview, news, die, woman, hous, new, rate, report, australia, continu, car, rise, warn, australian, win, search, abc, road, open, nation\n",
      "3 : interview, extend, nrl, michael, mark, luke, andrew, jame, ben, afl, john, matt, chris, steve, paul, nathan, daniel, david, peter, matthew, scott, adam, josh, nick, smith\n",
      "4 : polic, probe, investig, miss, hunt, crash, search, man, fatal, seek, victim, car, wit, bandit, road, death, driver, assault, arm, shoot, woman, plead, teen, hous, drink\n",
      "5 : grandstand, breakfast, august, juli, march, novemb, decemb, septemb, june, april, octob, februari, januari, stump, tuesday, tv, rod, tasmania, canberra, act, sport, sa, thursday, friday, flat\n",
      "6 : media, jame, origin, tim, ben, craig, andrew, david, anthoni, ricki, greg, john, mark, michael, robbi, darren, chris, afl, pont, cameron, smith, ian, simon, mick, jason\n",
      "7 : man, charg, murder, court, stab, die, face, crash, child, miss, kill, car, drug, accid, woman, accus, jail, sex, guilti, assault, fatal, attack, attempt, shoot, hit\n",
      "8 : drum, thursday, wednesday, monday, septemb, friday, octob, tuesday, august, novemb, june, april, juli, decemb, februari, march, shark, pope, wrap, fix, fisherman, fish, fiona, fishermen, firefight\n"
     ]
    }
   ],
   "source": [
    "kmeans = KMeans(n_clusters = 9, n_init = 20)\n",
    "kmeans.fit(X3)\n",
    "\n",
    "# Finally, we look at 8 the clusters generated by k-means. Show the top 25 words in each cluster \n",
    "common_words = kmeans.cluster_centers_.argsort()[:,-1:-26:-1]\n",
    "for num, centroid in enumerate(common_words):\n",
    "    print(str(num) + ' : ' + ', '.join(words[word] for word in centroid))\n",
    "\n"
   ]
  },
  {
   "cell_type": "code",
   "execution_count": 14,
   "metadata": {},
   "outputs": [],
   "source": [
    "from sklearn.cluster import SpectralClustering\n",
    "import numpy as np\n",
    "\n",
    "# Building the clustering model\n",
    "spectral_model_rbf = SpectralClustering(n_clusters = 8, affinity ='rbf')\n",
    "  \n",
    "# Training the model and Storing the predicted cluster labels\n",
    "labels_rbf = spectral_model_rbf.fit_predict(X3)"
   ]
  },
  {
   "cell_type": "code",
   "execution_count": 15,
   "metadata": {},
   "outputs": [
    {
     "name": "stdout",
     "output_type": "stream",
     "text": [
      "0 : man, charg, polic, murder, miss, die, court, crash, stab, woman, car, search, fatal, face, accus, drug, kill, child, jail, assault, accid, guilti, teen, sex, attempt\n",
      "1 : interview, polic, market, nrl, crash, kill, busi, speak, hous, miss, australian, michael, news, new, australia, warn, report, rate, afl, open, road, rise, share, win, abc\n",
      "2 : drum, thursday, wednesday, monday, septemb, friday, octob, tuesday, august, novemb, june, april, juli, decemb, februari, march, shark, firefight, fish, fisherman, glenn, finish, fishermen, fitzgibbon, fix\n",
      "3 : day, summari, vs, test, highlight, session, tiger, ash, redback, second, bushrang, australia, bull, warrior, blue, india, stump, pakistan, grandstand, fourth, zealand, indi, west, blog, new\n",
      "4 : breakfast, grandstand, august, march, juli, decemb, novemb, septemb, june, april, octob, februari, januari, flat, fish, flee, fix, fitzgibbon, fli, fishermen, flock, flood, fisherman, fiona, firefight\n",
      "5 : interview, zone, flood, flock, fli, flee, flat, fix, fitzgibbon, fishermen, fisherman, fish, firefight, fiona, finish, fine, follow, financ, final, film, fiji, figur, fight, fifth, field\n",
      "6 : media, jame, tim, ben, anthoni, greg, john, mark, andrew, david, michael, craig, origin, chris, afl, ian, simon, mick, jason, brad, steve, smith, scott, nrl, jarryd\n",
      "7 : extend, interview, speak, paul, mark, andrew, mike, ian, peter, jim, chris, richard, jame, john, rod, andi, joyc, brian, gari, alex, alan, ross, present, michael, bid\n",
      "8 : zone, fiona, follow, flu, flood, flock, fli, flee, flat, fix, fitzgibbon, fishermen, fisherman, fish, firefight, finish, fatal, fine, financ, final, film, fiji, figur, fight, fifth\n"
     ]
    },
    {
     "name": "stderr",
     "output_type": "stream",
     "text": [
      "c:\\Users\\Nicole\\AppData\\Local\\Programs\\Python\\Python38\\lib\\site-packages\\numpy\\matrixlib\\defmatrix.py:445: RuntimeWarning: Mean of empty slice.\n",
      "  return N.ndarray.mean(self, axis, dtype, out, keepdims=True)._collapse(axis)\n",
      "c:\\Users\\Nicole\\AppData\\Local\\Programs\\Python\\Python38\\lib\\site-packages\\numpy\\core\\_methods.py:162: RuntimeWarning: invalid value encountered in true_divide\n",
      "  ret = um.true_divide(\n"
     ]
    }
   ],
   "source": [
    "cw = X3.todense()\n",
    "\n",
    "clusters = np.zeros((9,1000))\n",
    "for j in range(9):\n",
    "    clusters[j, :] = np.mean(cw[labels_rbf==j], axis = 0)\n",
    "\n",
    "common_words = clusters.argsort()[:,-1:-26:-1]\n",
    "\n",
    "for num, centroid in enumerate(common_words):\n",
    "    print(str(num) + ' : ' + ', '.join(words[word] for word in centroid))"
   ]
  },
  {
   "cell_type": "markdown",
   "metadata": {},
   "source": [
    "Breakdown\n"
   ]
  },
  {
   "cell_type": "code",
   "execution_count": 17,
   "metadata": {},
   "outputs": [
    {
     "name": "stdout",
     "output_type": "stream",
     "text": [
      "For n_clusters = 8 The average silhouette_score is : 0.05851890241726994\n"
     ]
    },
    {
     "data": {
      "image/png": "[encoded data removed]",
      "text/plain": [
       "<Figure size 1296x504 with 1 Axes>"
      ]
     },
     "metadata": {
      "needs_background": "light"
     },
     "output_type": "display_data"
    }
   ],
   "source": [
    "\n",
    "from sklearn.metrics import silhouette_samples, silhouette_score\n",
    "import matplotlib.cm as cm\n",
    "\n",
    "n_clusters = 8 \n",
    "\n",
    "fig, (ax1) = plt.subplots()\n",
    "fig.set_size_inches(18, 7)\n",
    "ax1.set_xlim([-.1, 0.5])\n",
    "ax1.set_ylim([0, X3.shape[0] + (n_clusters + 1) * 10])\n",
    "\n",
    "clusterer = SpectralClustering(n_clusters=n_clusters, random_state=10)\n",
    "cluster_labels = clusterer.fit_predict(X3)\n",
    "silhouette_avg = silhouette_score(X3, labels=cluster_labels)\n",
    "\n",
    "print(\n",
    "    \"For n_clusters =\",\n",
    "    n_clusters,\n",
    "    \"The average silhouette_score is :\",\n",
    "    silhouette_avg,\n",
    ")\n",
    "\n",
    "sample_silhouette_values = silhouette_samples(X, cluster_labels)\n",
    "\n",
    "y_lower = 10\n",
    "max_size_cluster = 0\n",
    "bigest_size_index = 0\n",
    "for i in range(n_clusters):\n",
    "    ith_cluster_silhouette_values = sample_silhouette_values[cluster_labels == i]\n",
    "    ith_cluster_silhouette_values.sort()\n",
    "    size_cluster_i = ith_cluster_silhouette_values.shape[0]\n",
    "    if size_cluster_i > max_size_cluster:\n",
    "        max_size_cluster = size_cluster_i\n",
    "        bigest_size_index = i\n",
    "\n",
    "    y_upper = y_lower + size_cluster_i\n",
    "    color = cm.nipy_spectral(float(i) / n_clusters)\n",
    "    ax1.fill_betweenx(\n",
    "        np.arange(y_lower, y_upper),\n",
    "        0,\n",
    "        ith_cluster_silhouette_values,\n",
    "            facecolor=color,\n",
    "            edgecolor=color,\n",
    "            alpha=0.7,\n",
    "        )\n",
    "\n",
    "    ax1.text(-0.05, y_lower + 0.5 * size_cluster_i, str(i))\n",
    "    y_lower = y_upper + 10  \n",
    "\n",
    "ax1.set_title(\"The silhouette plot for the various clusters.\")\n",
    "ax1.set_xlabel(\"The silhouette coefficient values\")\n",
    "ax1.set_ylabel(\"Cluster label\")\n",
    "\n",
    "ax1.axvline(x=silhouette_avg, color=\"red\", linestyle=\"--\")\n",
    "ax1.set_yticks([])  # Clear the yaxis labels / ticks\n",
    "ax1.set_xticks([-0.1, 0, 0.2, 0.4, 0.6, 0.8, 1])\n",
    "\n",
    "plt.suptitle(\n",
    "    \"Silhouette analysis for KMeans clustering on sample data with n_clusters = %d\"\n",
    "    % n_clusters,\n",
    "    fontsize=14,\n",
    "    fontweight=\"bold\",\n",
    ")\n",
    "\n",
    "plt.show()\n"
   ]
  }
 ],
 "metadata": {
  "kernelspec": {
   "display_name": "Python 3.8.7 64-bit",
   "language": "python",
   "name": "python3"
  },
  "language_info": {
   "codemirror_mode": {
    "name": "ipython",
    "version": 3
   },
   "file_extension": ".py",
   "mimetype": "text/x-python",
   "name": "python",
   "nbconvert_exporter": "python",
   "pygments_lexer": "ipython3",
   "version": "3.8.7"
  },
  "orig_nbformat": 4,
  "vscode": {
   "interpreter": {
    "hash": "c1cfd1fed6a2e942f0438184c03f2a837556f43b5bb057c90cead687a01c30eb"
   }
  }
 },
 "nbformat": 4,
 "nbformat_minor": 2
}
