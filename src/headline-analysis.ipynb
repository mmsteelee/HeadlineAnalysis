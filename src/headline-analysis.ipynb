{
 "cells": [
  {
   "cell_type": "markdown",
   "metadata": {},
   "source": [
    "# Headline Analysis\n",
    "\n",
    "We have 2 news headline datasets,\n",
    "1. data/News_Category_Dataset_v3.json \n",
    "    - HuffPost\n",
    "    - 210,294 records between 2012 and 2022\n",
    "    - Attributes: (category, headline, authors, link, short_description, date)\n",
    "2. data/abcnews-date-text.csv \n",
    "    - Australian ABC\n",
    "    - 1,103,665 records between 2003 and 2021\n",
    "    - Attributes: (headline, date)"
   ]
  },
  {
   "cell_type": "code",
   "execution_count": null,
   "metadata": {},
   "outputs": [],
   "source": []
  }
 ],
 "metadata": {
  "kernelspec": {
   "display_name": "Python 3.10.6 64-bit",
   "language": "python",
   "name": "python3"
  },
  "language_info": {
   "name": "python",
   "version": "3.10.6"
  },
  "orig_nbformat": 4,
  "vscode": {
   "interpreter": {
    "hash": "b0fa6594d8f4cbf19f97940f81e996739fb7646882a419484c72d19e05852a7e"
   }
  }
 },
 "nbformat": 4,
 "nbformat_minor": 2
}
