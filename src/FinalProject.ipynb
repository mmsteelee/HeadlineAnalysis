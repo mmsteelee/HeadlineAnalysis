{
  "cells": [
    {
      "cell_type": "code",
      "execution_count": 2,
      "metadata": {
        "colab": {
          "base_uri": "https://localhost:8080/"
        },
        "id": "NIcSA5V2Z-xZ",
        "outputId": "37b93403-0230-4979-d44a-cfa678bc7fa5"
      },
      "outputs": [
        {
          "name": "stdout",
          "output_type": "stream",
          "text": [
            "Requirement already satisfied: numpy in c:\\users\\nicole\\appdata\\local\\programs\\python\\python38\\lib\\site-packages (1.19.5)\n",
            "Requirement already satisfied: matplotlib in c:\\users\\nicole\\appdata\\local\\programs\\python\\python38\\lib\\site-packages (3.3.4)\n",
            "Requirement already satisfied: scikit-learn in c:\\users\\nicole\\appdata\\local\\programs\\python\\python38\\lib\\site-packages (0.24.2)\n",
            "Requirement already satisfied: scipy in c:\\users\\nicole\\appdata\\local\\programs\\python\\python38\\lib\\site-packages (1.6.0)\n",
            "Requirement already satisfied: seaborn in c:\\users\\nicole\\appdata\\local\\programs\\python\\python38\\lib\\site-packages (0.11.1)\n",
            "Requirement already satisfied: nltk in c:\\users\\nicole\\appdata\\local\\programs\\python\\python38\\lib\\site-packages (3.7)\n",
            "Requirement already satisfied: kiwisolver>=1.0.1 in c:\\users\\nicole\\appdata\\local\\programs\\python\\python38\\lib\\site-packages (from matplotlib) (1.3.1)\n",
            "Requirement already satisfied: pillow>=6.2.0 in c:\\users\\nicole\\appdata\\local\\programs\\python\\python38\\lib\\site-packages (from matplotlib) (8.1.0)\n",
            "Requirement already satisfied: cycler>=0.10 in c:\\users\\nicole\\appdata\\local\\programs\\python\\python38\\lib\\site-packages (from matplotlib) (0.10.0)\n",
            "Requirement already satisfied: python-dateutil>=2.1 in c:\\users\\nicole\\appdata\\local\\programs\\python\\python38\\lib\\site-packages (from matplotlib) (2.8.1)\n",
            "Requirement already satisfied: pyparsing!=2.0.4,!=2.1.2,!=2.1.6,>=2.0.3 in c:\\users\\nicole\\appdata\\local\\programs\\python\\python38\\lib\\site-packages (from matplotlib) (2.4.7)\n",
            "Requirement already satisfied: joblib>=0.11 in c:\\users\\nicole\\appdata\\local\\programs\\python\\python38\\lib\\site-packages (from scikit-learn) (1.0.1)\n",
            "Requirement already satisfied: threadpoolctl>=2.0.0 in c:\\users\\nicole\\appdata\\local\\programs\\python\\python38\\lib\\site-packages (from scikit-learn) (2.1.0)\n",
            "Requirement already satisfied: pandas>=0.23 in c:\\users\\nicole\\appdata\\local\\programs\\python\\python38\\lib\\site-packages (from seaborn) (1.2.1)\n",
            "Requirement already satisfied: click in c:\\users\\nicole\\appdata\\local\\programs\\python\\python38\\lib\\site-packages (from nltk) (8.1.3)\n",
            "Requirement already satisfied: regex>=2021.8.3 in c:\\users\\nicole\\appdata\\local\\programs\\python\\python38\\lib\\site-packages (from nltk) (2022.10.31)\n",
            "Requirement already satisfied: tqdm in c:\\users\\nicole\\appdata\\local\\programs\\python\\python38\\lib\\site-packages (from nltk) (4.64.1)\n",
            "Requirement already satisfied: six in c:\\users\\nicole\\appdata\\local\\programs\\python\\python38\\lib\\site-packages (from cycler>=0.10->matplotlib) (1.15.0)\n",
            "Requirement already satisfied: pytz>=2017.3 in c:\\users\\nicole\\appdata\\local\\programs\\python\\python38\\lib\\site-packages (from pandas>=0.23->seaborn) (2021.1)\n",
            "Requirement already satisfied: colorama in c:\\users\\nicole\\appdata\\roaming\\python\\python38\\site-packages (from click->nltk) (0.4.4)\n"
          ]
        }
      ],
      "source": [
        "import sys\n",
        "!{sys.executable} -m pip install numpy matplotlib scikit-learn scipy seaborn nltk\n",
        "\n",
        "import numpy as np \n",
        "import pandas as pd \n",
        "import matplotlib.pyplot as plt\n",
        "import seaborn as sns\n",
        "from sklearn.feature_extraction import text\n",
        "from sklearn.feature_extraction.text import TfidfVectorizer\n",
        "from sklearn.cluster import KMeans\n",
        "from nltk.tokenize import RegexpTokenizer\n",
        "from nltk.stem.snowball import SnowballStemmer\n",
        "%matplotlib inline"
      ]
    },
    {
      "cell_type": "code",
      "execution_count": 3,
      "metadata": {
        "colab": {
          "base_uri": "https://localhost:8080/"
        },
        "id": "snd1nRFLeCuE",
        "outputId": "d6df2180-1ecc-44fb-bfc7-42e8fe3b3bae"
      },
      "outputs": [
        {
          "name": "stdout",
          "output_type": "stream",
          "text": [
            "1244184\n",
            "Index(['publish_date', 'headline_text'], dtype='object')\n",
            "1213004\n"
          ]
        }
      ],
      "source": [
        "data = pd.read_csv(\"../data/abcnews-date-text.csv\")\n",
        "print(len(data))\n",
        "\n",
        "print(data.columns)\n",
        "\n",
        "data = data['headline_text'].drop_duplicates()\n",
        "\n",
        "\n",
        "print(len(data))"
      ]
    },
    {
      "cell_type": "code",
      "execution_count": 4,
      "metadata": {
        "colab": {
          "base_uri": "https://localhost:8080/"
        },
        "id": "iPcwTpTHeQ2i",
        "outputId": "955e245a-5e9f-47f4-8bf1-5e2b03d4d6ed"
      },
      "outputs": [
        {
          "name": "stderr",
          "output_type": "stream",
          "text": [
            "c:\\Users\\Nicole\\AppData\\Local\\Programs\\Python\\Python38\\lib\\site-packages\\sklearn\\feature_extraction\\text.py:388: UserWarning: Your stop_words may be inconsistent with your preprocessing. Tokenizing the stop words generated tokens ['abov', 'afterward', 'alon', 'alreadi', 'alway', 'ani', 'anoth', 'anyon', 'anyth', 'anywher', 'becam', 'becaus', 'becom', 'befor', 'besid', 'cri', 'describ', 'dure', 'els', 'elsewher', 'empti', 'everi', 'everyon', 'everyth', 'everywher', 'fifti', 'forti', 'henc', 'hereaft', 'herebi', 'howev', 'hundr', 'inde', 'mani', 'meanwhil', 'moreov', 'nobodi', 'noon', 'noth', 'nowher', 'onc', 'onli', 'otherwis', 'ourselv', 'perhap', 'pleas', 'sever', 'sinc', 'sincer', 'sixti', 'someon', 'someth', 'sometim', 'somewher', 'themselv', 'thenc', 'thereaft', 'therebi', 'therefor', 'togeth', 'twelv', 'twenti', 'veri', 'whatev', 'whenc', 'whenev', 'wherea', 'whereaft', 'wherebi', 'wherev', 'whi', 'yourselv'] not in stop_words.\n",
            "  warnings.warn('Your stop_words may be inconsistent with '\n"
          ]
        }
      ],
      "source": [
        "\n",
        "# Punctiation to separate words for vecotrization\n",
        "punctuation = ['.', ',', '\"', \"'\", '?', '!', ':', ';', '(', ')', '[', ']', '{', '}',\"%\"]\n",
        "# Words that are uninformative like 'and' 'or' 'but' \n",
        "stop_words = text.ENGLISH_STOP_WORDS.union(punctuation)\n",
        "\n",
        "\n",
        "vectorizer = TfidfVectorizer(stop_words = stop_words)\n",
        "\n",
        "X = vectorizer.fit_transform(data)\n",
        "\n",
        "\n",
        "# Use predefined stemmers and tokenizers\n",
        "stem = SnowballStemmer('english')\n",
        "token = RegexpTokenizer(r'[a-zA-Z\\']+')\n",
        "\n",
        "def tokenize(text):\n",
        "    # Returns the array of stemmed words from the tokenized tevxt\n",
        "    return [stem.stem(word) for word in token.tokenize(text.lower())]\n",
        "\n",
        "vectorizer3 = TfidfVectorizer(stop_words = stop_words, tokenizer = tokenize, max_features = 1000)\n",
        "\n",
        "X = vectorizer3.fit_transform(data)\n"
      ]
    },
    {
      "cell_type": "code",
      "execution_count": 5,
      "metadata": {
        "colab": {
          "base_uri": "https://localhost:8080/"
        },
        "id": "qWEh-HaZeVE2",
        "outputId": "7e52bc7f-e7aa-487f-a105-f9144aaba21c"
      },
      "outputs": [
        {
          "name": "stdout",
          "output_type": "stream",
          "text": [
            "['abbott', 'abc', 'aborigin', 'abus', 'access', 'accid', 'accus', 'act', 'action', 'ad', 'address', 'adelaid', 'admit', 'affect', 'afghan', 'afghanistan', 'afl', 'africa', 'age', 'agre', 'agreement', 'ahead', 'aid', 'aim', 'air', 'airport', 'al', 'alcohol', 'alert', 'alic', 'alleg', 'allow', 'alp', 'amid', 'andrew', 'anger', 'anim', 'announc', 'anoth', 'anti', 'anzac', 'apologis', 'appeal', 'appear', 'appoint', 'approv', 'area', 'arm', 'armi', 'arrest', 'arriv', 'art', 'ash', 'ask', 'assault', 'assist', 'asylum', 'attack', 'attempt', 'august', 'aussi', 'aust', 'australia', 'australian', 'author', 'avoid', 'await', 'award', 'away', 'axe', 'b', 'babi', 'bad', 'bail', 'bali', 'ban', 'bank', 'base', 'bash', 'battl', 'bay', 'beach', 'beat', 'becom', 'beef', 'befor', 'begin', 'bendigo', 'benefit', 'best', 'better', 'bid', 'big', 'biki', 'billion', 'bird', 'black', 'blame', 'blast', 'blaze', 'block', 'blow', 'blue', 'board', 'boat', 'bodi', 'bomb', 'bomber', 'book', 'boom', 'boost', 'border', 'boss', 'box', 'boy', 'brawl', 'breach', 'break', 'bridg', 'bring', 'brisban', 'british', 'broken', 'brother', 'brown', 'budget', 'build', 'bull', 'bulldog', 'burn', 'bus', 'bush', 'bushfir', 'busi', 'buy', 'cabinet', 'camp', 'campaign', 'canberra', 'cancel', 'cancer', 'candid', 'capit', 'car', 'carbon', 'card', 'care', 'case', 'cash', 'cat', 'cattl', 'caught', 'caus', 'celebr', 'centr', 'central', 'ceo', 'challeng', 'champion', 'chanc', 'chang', 'charg', 'chase', 'check', 'chief', 'child', 'children', 'china', 'chines', 'christma', 'church', 'citi', 'claim', 'clark', 'clash', 'clean', 'clear', 'climat', 'close', 'closur', 'club', 'coach', 'coal', 'coalit', 'coast', 'collaps', 'come', 'comment', 'commiss', 'commission', 'commit', 'communiti', 'compani', 'compens', 'concern', 'condit', 'confer', 'confid', 'confirm', 'consid', 'construct', 'continu', 'contract', 'control', 'convict', 'cop', 'coron', 'coronavirus', 'corrupt', 'cost', 'council', 'councillor', 'countri', 'coupl', 'court', 'covid', 'crackdown', 'crash', 'creat', 'creek', 'crew', 'cricket', 'crime', 'crisi', 'critic', 'criticis', 'croc', 'crop', 'cross', 'crow', 'crowd', 'cup', 'custodi', 'cut', 'cyclon', 'dairi', 'dam', 'damag', 'danger', 'darwin', 'data', 'date', 'david', 'day', 'dead', 'deal', 'death', 'debat', 'debt', 'decid', 'decis', 'declar', 'defenc', 'defend', 'delay', 'deliv', 'demand', 'deni', 'despit', 'destroy', 'detent', 'develop', 'die', 'director', 'disabl', 'disast', 'discuss', 'diseas', 'dismiss', 'disput', 'doctor', 'dog', 'dollar', 'domest', 'donald', 'donat', 'doubl', 'doubt', 'draw', 'dri', 'drink', 'drive', 'driver', 'drop', 'drought', 'drown', 'drug', 'drum', 'dump', 'dure', 'eagl', 'earli', 'eas', 'east', 'econom', 'economi', 'edg', 'educ', 'effort', 'elder', 'elect', 'emerg', 'end', 'energi', 'england', 'escap', 'evacu', 'evid', 'ex', 'execut', 'expans', 'expect', 'expert', 'explain', 'explos', 'export', 'extend', 'eye', 'face', 'fail', 'fall', 'famili', 'fan', 'far', 'farewel', 'farm', 'farmer', 'fatal', 'father', 'fear', 'feder', 'fee', 'festiv', 'fight', 'figur', 'fiji', 'film', 'final', 'financi', 'fine', 'firefight', 'firm', 'fish', 'fix', 'flag', 'fli', 'flight', 'flood', 'flu', 'focus', 'follow', 'food', 'footbal', 'forc', 'forecast', 'foreign', 'forest', 'form', 'forum', 'franc', 'fraud', 'free', 'french', 'friday', 'friend', 'fruit', 'fuel', 'fund', 'futur', 'g', 'gain', 'game', 'gas', 'gay', 'gaza', 'general', 'georg', 'giant', 'gillard', 'gippsland', 'girl', 'given', 'global', 'goe', 'gold', 'good', 'govern', 'govt', 'grain', 'grand', 'grandstand', 'grant', 'great', 'green', 'ground', 'group', 'grow', 'grower', 'growth', 'guilti', 'gun', 'hail', 'hand', 'happi', 'harbour', 'harvest', 'hawk', 'head', 'health', 'hear', 'heart', 'heat', 'held', 'help', 'heritag', 'high', 'higher', 'highlight', 'highway', 'hill', 'histor', 'histori', 'hit', 'hobart', 'hold', 'home', 'homeless', 'honour', 'hope', 'hors', 'hospit', 'host', 'hot', 'hotel', 'hour', 'hous', 'howard', 'human', 'hundr', 'hunt', 'hunter', 'hurt', 'ice', 'illeg', 'impact', 'import', 'improv', 'incid', 'increas', 'independ', 'india', 'indian', 'indigen', 'indonesia', 'indonesian', 'industri', 'injur', 'injuri', 'inquest', 'inquiri', 'insur', 'intern', 'interview', 'invest', 'investig', 'iran', 'iraq', 'iraqi', 'irrig', 'islam', 'island', 'isra', 'israel', 'issu', 'jail', 'jame', 'japan', 'japanes', 'jet', 'job', 'john', 'johnson', 'join', 'jone', 'journalist', 'judg', 'juli', 'jump', 'k', 'kangaroo', 'keen', 'key', 'kid', 'kill', 'killer', 'kimberley', 'king', 'knight', 'korea', 'labor', 'lake', 'land', 'lanka', 'late', 'latest', 'launch', 'law', 'lawyer', 'lead', 'leader', 'leadership', 'leagu', 'leak', 'learn', 'leav', 'left', 'legal', 'level', 'liber', 'life', 'lift', 'light', 'like', 'limit', 'line', 'link', 'lion', 'list', 'live', 'local', 'london', 'long', 'look', 'loom', 'lose', 'loss', 'lost', 'low', 'lower', 'm', 'mackay', 'major', 'make', 'man', 'manag', 'march', 'marin', 'mark', 'market', 'marriag', 'match', 'mayor', 'media', 'medic', 'meet', 'melbourn', 'member', 'memori', 'men', 'mental', 'merger', 'michael', 'mid', 'militari', 'million', 'miner', 'minist', 'miss', 'mix', 'monday', 'money', 'month', 'morrison', 'mother', 'mount', 'mp', 'mps', 'murder', 'murray', 'music', 'nation', 'near', 'need', 'new', 'newcastl', 'news', 'night', 'north', 'northern', 'nrl', 'nrn', 'nsw', 'nt', 'nuclear', 'number', 'nurs', 'nz', 'obama', 'offer', 'offic', 'offici', 'oil', 'old', 'olymp', 'onlin', 'open', 'oper', 'opposit', 'order', 'origin', 'outback', 'outbreak', 'owner', 'pacif', 'pair', 'pakistan', 'palestinian', 'parent', 'park', 'parliament', 'parti', 'pass', 'passeng', 'patient', 'pay', 'pc', 'peac', 'peopl', 'perth', 'peter', 'petrol', 'philippin', 'phone', 'pilot', 'place', 'plan', 'plane', 'plant', 'play', 'player', 'plea', 'plead', 'pledg', 'pm', 'png', 'point', 'polic', 'polici', 'polit', 'poll', 'pool', 'port', 'posit', 'possibl', 'post', 'power', 'prais', 'predict', 'premier', 'prepar', 'presid', 'press', 'pressur', 'price', 'princ', 'prison', 'privat', 'probe', 'problem', 'produc', 'product', 'profit', 'program', 'project', 'promis', 'prompt', 'properti', 'propos', 'protect', 'protest', 'public', 'pull', 'push', 'qanta', 'qld', 'quak', 'queen', 'queensland', 'question', 'quit', 'race', 'raid', 'rail', 'rain', 'rais', 'ralli', 'rape', 'rare', 'rate', 'reach', 'readi', 'real', 'rebel', 'receiv', 'record', 'recov', 'recoveri', 'red', 'reduc', 'reef', 'reform', 'refuge', 'refus', 'region', 'reject', 'relat', 'releas', 'relief', 'remain', 'rememb', 'remot', 'remov', 'renew', 'reopen', 'replac', 'report', 'rescu', 'research', 'reserv', 'resid', 'resign', 'resourc', 'respons', 'restrict', 'result', 'resum', 'retail', 'retir', 'return', 'revamp', 'reveal', 'review', 'ride', 'right', 'rio', 'riot', 'rise', 'risk', 'river', 'road', 'robberi', 'rock', 'role', 'roll', 'round', 'row', 'royal', 'rudd', 'rugbi', 'rule', 'run', 'rural', 'russia', 'russian', 's', 'sa', 'sack', 'safe', 'safeti', 'sale', 'save', 'say', 'scheme', 'school', 'scientist', 'scott', 'sea', 'search', 'season', 'seat', 'second', 'sector', 'secur', 'seek', 'seeker', 'seiz', 'sell', 'semi', 'senat', 'send', 'sentenc', 'seri', 'servic', 'set', 'seven', 'sex', 'sexual', 'share', 'shark', 'sheep', 'ship', 'shire', 'shock', 'shoot', 'shop', 'short', 'shortag', 'shot', 'sign', 'site', 'slam', 'slow', 'small', 'smith', 'smoke', 'socceroo', 'social', 'solar', 'soldier', 'son', 'sought', 'south', 'southern', 'space', 'spark', 'speak', 'speed', 'spend', 'spill', 'sport', 'spot', 'spring', 'squad', 'sri', 'st', 'stab', 'staff', 'stage', 'stand', 'star', 'start', 'state', 'station', 'stay', 'step', 'stock', 'stolen', 'stop', 'stori', 'storm', 'street', 'strike', 'strong', 'struggl', 'student', 'studi', 'success', 'suffer', 'sugar', 'suicid', 'super', 'suppli', 'support', 'surg', 'surgeri', 'survey', 'surviv', 'survivor', 'suspect', 'suspend', 'swan', 'swim', 'sydney', 'syria', 'tackl', 'takeov', 'talk', 'target', 'tas', 'tasmania', 'tasmanian', 'tax', 'taxi', 'teacher', 'team', 'teen', 'teenag', 'tell', 'telstra', 'term', 'territori', 'terror', 'test', 'th', 'thai', 'theft', 'thousand', 'threat', 'threaten', 'tiger', 'time', 'timor', 'tip', 'titl', 'told', 'toll', 'toni', 'tough', 'tour', 'tourism', 'tourist', 'town', 'townsvill', 'track', 'trade', 'train', 'transport', 'travel', 'treatment', 'tree', 'tri', 'trial', 'tribut', 'troop', 'truck', 'trump', 'tsunami', 'turn', 'turnbul', 'tv', 'uk', 'uni', 'union', 'unit', 'univers', 'unveil', 'upgrad', 'urg', 'use', 'vaccin', 'valley', 'veteran', 'vic', 'victim', 'victori', 'victoria', 'victorian', 'video', 'violenc', 'visit', 'volunt', 'vote', 'vow', 'vs', 'wa', 'wait', 'walk', 'wall', 'wallabi', 'want', 'war', 'warn', 'warrior', 'wast', 'watch', 'water', 'way', 'weather', 'week', 'weekend', 'welcom', 'welfar', 'west', 'western', 'whale', 'whi', 'white', 'wife', 'wild', 'william', 'win', 'wind', 'wine', 'winner', 'wit', 'withdraw', 'woe', 'woman', 'women', 'wont', 'work', 'worker', 'world', 'worri', 'year', 'yo', 'young', 'youth', 'zealand', 'zone']\n"
          ]
        }
      ],
      "source": [
        "words = vectorizer3.get_feature_names()\n",
        "print(words)"
      ]
    },
    {
      "cell_type": "code",
      "execution_count": 6,
      "metadata": {
        "colab": {
          "base_uri": "https://localhost:8080/",
          "height": 1000
        },
        "id": "4jZVg4C1eXvD",
        "outputId": "ac89974f-f231-4c9e-96bc-ac0fface98d9"
      },
      "outputs": [
        {
          "ename": "KeyboardInterrupt",
          "evalue": "",
          "output_type": "error",
          "traceback": [
            "\u001b[1;31m---------------------------------------------------------------------------\u001b[0m",
            "\u001b[1;31mKeyboardInterrupt\u001b[0m                         Traceback (most recent call last)",
            "\u001b[1;32m<__array_function__ internals>\u001b[0m in \u001b[0;36mwhere\u001b[1;34m(*args, **kwargs)\u001b[0m\n",
            "\u001b[1;31mKeyboardInterrupt\u001b[0m: "
          ]
        },
        {
          "name": "stderr",
          "output_type": "stream",
          "text": [
            "Exception ignored in: 'sklearn.cluster._k_means_fast._relocate_empty_clusters_sparse'\n",
            "Traceback (most recent call last):\n",
            "  File \"<__array_function__ internals>\", line 2, in where\n",
            "KeyboardInterrupt: \n"
          ]
        },
        {
          "ename": "KeyboardInterrupt",
          "evalue": "",
          "output_type": "error",
          "traceback": [
            "\u001b[1;31m---------------------------------------------------------------------------\u001b[0m",
            "\u001b[1;31mKeyboardInterrupt\u001b[0m                         Traceback (most recent call last)",
            "\u001b[1;32m<__array_function__ internals>\u001b[0m in \u001b[0;36mwhere\u001b[1;34m(*args, **kwargs)\u001b[0m\n",
            "\u001b[1;31mKeyboardInterrupt\u001b[0m: "
          ]
        },
        {
          "name": "stderr",
          "output_type": "stream",
          "text": [
            "Exception ignored in: 'sklearn.cluster._k_means_fast._relocate_empty_clusters_sparse'\n",
            "Traceback (most recent call last):\n",
            "  File \"<__array_function__ internals>\", line 2, in where\n",
            "KeyboardInterrupt: \n"
          ]
        },
        {
          "ename": "KeyboardInterrupt",
          "evalue": "",
          "output_type": "error",
          "traceback": [
            "\u001b[1;31m---------------------------------------------------------------------------\u001b[0m",
            "\u001b[1;31mKeyboardInterrupt\u001b[0m                         Traceback (most recent call last)",
            "\u001b[1;32m<__array_function__ internals>\u001b[0m in \u001b[0;36mwhere\u001b[1;34m(*args, **kwargs)\u001b[0m\n",
            "\u001b[1;31mKeyboardInterrupt\u001b[0m: "
          ]
        },
        {
          "name": "stderr",
          "output_type": "stream",
          "text": [
            "Exception ignored in: 'sklearn.cluster._k_means_fast._relocate_empty_clusters_sparse'\n",
            "Traceback (most recent call last):\n",
            "  File \"<__array_function__ internals>\", line 2, in where\n",
            "KeyboardInterrupt: \n"
          ]
        },
        {
          "ename": "KeyboardInterrupt",
          "evalue": "",
          "output_type": "error",
          "traceback": [
            "\u001b[1;31m---------------------------------------------------------------------------\u001b[0m",
            "\u001b[1;31mKeyboardInterrupt\u001b[0m                         Traceback (most recent call last)",
            "\u001b[1;32m<__array_function__ internals>\u001b[0m in \u001b[0;36mwhere\u001b[1;34m(*args, **kwargs)\u001b[0m\n",
            "\u001b[1;31mKeyboardInterrupt\u001b[0m: "
          ]
        },
        {
          "name": "stderr",
          "output_type": "stream",
          "text": [
            "Exception ignored in: 'sklearn.cluster._k_means_fast._relocate_empty_clusters_sparse'\n",
            "Traceback (most recent call last):\n",
            "  File \"<__array_function__ internals>\", line 2, in where\n",
            "KeyboardInterrupt: \n"
          ]
        },
        {
          "ename": "KeyboardInterrupt",
          "evalue": "",
          "output_type": "error",
          "traceback": [
            "\u001b[1;31m---------------------------------------------------------------------------\u001b[0m",
            "\u001b[1;31mKeyboardInterrupt\u001b[0m                         Traceback (most recent call last)",
            "\u001b[1;32m<__array_function__ internals>\u001b[0m in \u001b[0;36mwhere\u001b[1;34m(*args, **kwargs)\u001b[0m\n",
            "\u001b[1;31mKeyboardInterrupt\u001b[0m: "
          ]
        },
        {
          "name": "stderr",
          "output_type": "stream",
          "text": [
            "Exception ignored in: 'sklearn.cluster._k_means_fast._relocate_empty_clusters_sparse'\n",
            "Traceback (most recent call last):\n",
            "  File \"<__array_function__ internals>\", line 2, in where\n",
            "KeyboardInterrupt: \n"
          ]
        },
        {
          "ename": "KeyboardInterrupt",
          "evalue": "",
          "output_type": "error",
          "traceback": [
            "\u001b[1;31m---------------------------------------------------------------------------\u001b[0m",
            "\u001b[1;31mKeyboardInterrupt\u001b[0m                         Traceback (most recent call last)",
            "\u001b[1;32m<__array_function__ internals>\u001b[0m in \u001b[0;36mwhere\u001b[1;34m(*args, **kwargs)\u001b[0m\n",
            "\u001b[1;31mKeyboardInterrupt\u001b[0m: "
          ]
        },
        {
          "name": "stderr",
          "output_type": "stream",
          "text": [
            "Exception ignored in: 'sklearn.cluster._k_means_fast._relocate_empty_clusters_sparse'\n",
            "Traceback (most recent call last):\n",
            "  File \"<__array_function__ internals>\", line 2, in where\n",
            "KeyboardInterrupt: \n"
          ]
        },
        {
          "ename": "",
          "evalue": "",
          "output_type": "error",
          "traceback": [
            "\u001b[1;31mCanceled future for execute_request message before replies were done"
          ]
        }
      ],
      "source": [
        "from sklearn.cluster import KMeans\n",
        "wcss = []\n",
        "for i in range(1,11):\n",
        "    kmeans = KMeans(n_clusters=i,n_init=4,max_iter=300)\n",
        "    kmeans.fit(X)\n",
        "    wcss.append(kmeans.inertia_)\n",
        "plt.plot(range(1,11),wcss)\n",
        "plt.title('The Elbow Method')\n",
        "plt.xlabel('Number of clusters')\n",
        "plt.ylabel('WCSS')\n",
        "plt.savefig('elbow.png')\n",
        "plt.show()\n",
        "\n",
        "from sklearn.metrics import silhouette_samples, silhouette_score\n",
        "import matplotlib.cm as cm\n",
        "\n",
        "range_n_clusters = range(6, 11)\n",
        "\n",
        "for n_clusters in range_n_clusters:\n",
        "    fig, (ax1) = plt.subplots()\n",
        "    fig.set_size_inches(18, 7)\n",
        "    ax1.set_xlim([-.1, 0.5])\n",
        "    ax1.set_ylim([0, X.shape[0] + (n_clusters + 1) * 10])\n",
        "\n",
        "    clusterer = KMeans(n_clusters=n_clusters,n_init=4, random_state=10)\n",
        "    cluster_labels = clusterer.fit_predict(X)\n",
        "    silhouette_avg = silhouette_score(X, labels=cluster_labels)\n",
        "    \n",
        "    print(\n",
        "        \"For n_clusters =\",\n",
        "        n_clusters,\n",
        "        \"The average silhouette_score is :\",\n",
        "        silhouette_avg,\n",
        "    )\n",
        "\n",
        "    sample_silhouette_values = silhouette_samples(X, cluster_labels)\n",
        "\n",
        "    y_lower = 10\n",
        "    max_size_cluster = 0\n",
        "    bigest_size_index = 0\n",
        "    for i in range(n_clusters):\n",
        "        ith_cluster_silhouette_values = sample_silhouette_values[cluster_labels == i]\n",
        "        ith_cluster_silhouette_values.sort()\n",
        "        size_cluster_i = ith_cluster_silhouette_values.shape[0]\n",
        "        if size_cluster_i > max_size_cluster:\n",
        "            max_size_cluster = size_cluster_i\n",
        "            bigest_size_index = i\n",
        "\n",
        "        y_upper = y_lower + size_cluster_i\n",
        "        color = cm.nipy_spectral(float(i) / n_clusters)\n",
        "        ax1.fill_betweenx(\n",
        "            np.arange(y_lower, y_upper),\n",
        "            0,\n",
        "            ith_cluster_silhouette_values,\n",
        "            facecolor=color,\n",
        "            edgecolor=color,\n",
        "            alpha=0.7,\n",
        "        )\n",
        "\n",
        "        ax1.text(-0.05, y_lower + 0.5 * size_cluster_i, str(i))\n",
        "        y_lower = y_upper + 10  \n",
        "\n",
        "    ax1.set_title(\"The silhouette plot for the various clusters.\")\n",
        "    ax1.set_xlabel(\"The silhouette coefficient values\")\n",
        "    ax1.set_ylabel(\"Cluster label\")\n",
        "\n",
        "    ax1.axvline(x=silhouette_avg, color=\"red\", linestyle=\"--\")\n",
        "    ax1.set_yticks([])  # Clear the yaxis labels / ticks\n",
        "    ax1.set_xticks([-0.1, 0, 0.2, 0.4, 0.6, 0.8, 1])\n",
        "    \n",
        "    plt.suptitle(\n",
        "        \"Silhouette analysis for KMeans clustering on sample data with n_clusters = %d\"\n",
        "        % n_clusters,\n",
        "        fontsize=14,\n",
        "        fontweight=\"bold\",\n",
        "    )\n",
        "\n",
        "plt.show()\n",
        "\n"
      ]
    },
    {
      "cell_type": "markdown",
      "metadata": {
        "id": "eMfqb6p8iNMk"
      },
      "source": [
        "**Running K-Means with K=10 TF-IDF**"
      ]
    },
    {
      "cell_type": "code",
      "execution_count": null,
      "metadata": {
        "colab": {
          "base_uri": "https://localhost:8080/"
        },
        "id": "0ezM9mtfh4J_",
        "outputId": "20de903f-3b98-4bca-9015-ca5e688b8518"
      },
      "outputs": [],
      "source": [
        "\n",
        "kmeans = KMeans(n_clusters = 8, n_init = 20)\n",
        "kmeans.fit(X)\n",
        "\n",
        "# Finally, we look at 8 the clusters generated by k-means. Show the top 25 words in each cluster \n",
        "common_words = kmeans.cluster_centers_.argsort()[:,-1:-26:-1]\n",
        "for num, centroid in enumerate(common_words):\n",
        "    print(str(num) + ' : ' + ', '.join(words[word] for word in centroid))"
      ]
    },
    {
      "cell_type": "markdown",
      "metadata": {
        "id": "Jj8ielaIjBF0"
      },
      "source": [
        "From looking at the 10 clusters created from TF-IDF vectorizations, the cluster topics appear to be as follows\n",
        "1. Governmnet planning and funding\n",
        "2. Foreign policy\n",
        "3. Criminal investigations\n",
        "4. Government positions\n",
        "5. Sports\n",
        "6. Public health\n",
        "7. Serious crimes\n",
        "8. Accidents\n",
        "9. War and foreign relations\n",
        "10. Sports"
      ]
    },
    {
      "cell_type": "code",
      "execution_count": null,
      "metadata": {
        "colab": {
          "base_uri": "https://localhost:8080/"
        },
        "id": "GPVi9aqnkK0N",
        "outputId": "e4191785-753a-46ec-a282-d25d43e5ca10"
      },
      "outputs": [
        {
          "name": "stdout",
          "output_type": "stream",
          "text": [
            "[[    0  5990]\n",
            " [    1  1228]\n",
            " [    2  2990]\n",
            " [    3  2274]\n",
            " [    4  1441]\n",
            " [    5 64314]\n",
            " [    6  2627]\n",
            " [    7  1617]\n",
            " [    8  1607]\n",
            " [    9   666]]\n"
          ]
        }
      ],
      "source": [
        "labels = kmeans.labels_\n",
        "unique, counts = np.unique(labels, return_counts=True)\n",
        "print(np.asarray((unique, counts)).T)"
      ]
    },
    {
      "cell_type": "code",
      "execution_count": null,
      "metadata": {
        "colab": {
          "base_uri": "https://localhost:8080/",
          "height": 477
        },
        "id": "Jsnpa5gBlJRO",
        "outputId": "ab73f7bb-6fb5-437c-91a5-f55708549bdd"
      },
      "outputs": [
        {
          "data": {
            "image/png": "[encoded data removed]",
            "text/plain": [
              "<Figure size 576x576 with 1 Axes>"
            ]
          },
          "metadata": {},
          "output_type": "display_data"
        }
      ],
      "source": [
        "labels = ['Gov Planning', 'Foreign Policy', 'Criminal Investiagations', 'Government Positions', 'Sports','Public Health','Serious Crimes','Accidents','War and Foreign relations','Sports']\n",
        "\n",
        "sizes = [5990, 1228, 2990, 2274,1441,64314,2627,1617,1607,666]\n",
        "\n",
        "\n",
        "fig1, ax1 = plt.subplots()\n",
        "fig1.set_figheight(8)\n",
        "fig1.set_figwidth(8)\n",
        "ax1.pie(sizes, labels=labels, autopct='%1.1f%%',\n",
        "        shadow=True, startangle=90)\n",
        "ax1.axis('equal')  # Equal aspect ratio ensures that pie is drawn as a circle.\n",
        "\n",
        "plt.show()"
      ]
    },
    {
      "cell_type": "markdown",
      "metadata": {
        "id": "in0TEd2fmCK2"
      },
      "source": [
        "**K-Means Word2Vec**"
      ]
    },
    {
      "cell_type": "code",
      "execution_count": null,
      "metadata": {
        "id": "MZbh7Uduj_ui"
      },
      "outputs": [],
      "source": []
    },
    {
      "cell_type": "code",
      "execution_count": null,
      "metadata": {
        "id": "lnf_BSAJiw8a"
      },
      "outputs": [],
      "source": []
    }
  ],
  "metadata": {
    "accelerator": "GPU",
    "colab": {
      "provenance": []
    },
    "gpuClass": "standard",
    "kernelspec": {
      "display_name": "Python 3.8.7 64-bit",
      "language": "python",
      "name": "python3"
    },
    "language_info": {
      "codemirror_mode": {
        "name": "ipython",
        "version": 3
      },
      "file_extension": ".py",
      "mimetype": "text/x-python",
      "name": "python",
      "nbconvert_exporter": "python",
      "pygments_lexer": "ipython3",
      "version": "3.8.7"
    },
    "vscode": {
      "interpreter": {
        "hash": "c1cfd1fed6a2e942f0438184c03f2a837556f43b5bb057c90cead687a01c30eb"
      }
    }
  },
  "nbformat": 4,
  "nbformat_minor": 0
}
