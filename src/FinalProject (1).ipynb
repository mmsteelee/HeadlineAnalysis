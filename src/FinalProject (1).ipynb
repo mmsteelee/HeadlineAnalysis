{
  "nbformat": 4,
  "nbformat_minor": 0,
  "metadata": {
    "colab": {
      "provenance": []
    },
    "kernelspec": {
      "name": "python3",
      "display_name": "Python 3"
    },
    "language_info": {
      "name": "python"
    },
    "accelerator": "GPU",
    "gpuClass": "standard"
  },
  "cells": [
    {
      "cell_type": "code",
      "execution_count": 1,
      "metadata": {
        "colab": {
          "base_uri": "https://localhost:8080/"
        },
        "id": "NIcSA5V2Z-xZ",
        "outputId": "c59dd8c7-ac80-4ee6-9178-7c4ceda5a1e0"
      },
      "outputs": [
        {
          "output_type": "stream",
          "name": "stdout",
          "text": [
            "Looking in indexes: https://pypi.org/simple, https://us-python.pkg.dev/colab-wheels/public/simple/\n",
            "Requirement already satisfied: numpy in /usr/local/lib/python3.8/dist-packages (1.21.6)\n",
            "Requirement already satisfied: matplotlib in /usr/local/lib/python3.8/dist-packages (3.2.2)\n",
            "Requirement already satisfied: scikit-learn in /usr/local/lib/python3.8/dist-packages (1.0.2)\n",
            "Requirement already satisfied: scipy in /usr/local/lib/python3.8/dist-packages (1.7.3)\n",
            "Requirement already satisfied: seaborn in /usr/local/lib/python3.8/dist-packages (0.11.2)\n",
            "Requirement already satisfied: nltk in /usr/local/lib/python3.8/dist-packages (3.7)\n",
            "Requirement already satisfied: python-dateutil>=2.1 in /usr/local/lib/python3.8/dist-packages (from matplotlib) (2.8.2)\n",
            "Requirement already satisfied: cycler>=0.10 in /usr/local/lib/python3.8/dist-packages (from matplotlib) (0.11.0)\n",
            "Requirement already satisfied: kiwisolver>=1.0.1 in /usr/local/lib/python3.8/dist-packages (from matplotlib) (1.4.4)\n",
            "Requirement already satisfied: pyparsing!=2.0.4,!=2.1.2,!=2.1.6,>=2.0.1 in /usr/local/lib/python3.8/dist-packages (from matplotlib) (3.0.9)\n",
            "Requirement already satisfied: six>=1.5 in /usr/local/lib/python3.8/dist-packages (from python-dateutil>=2.1->matplotlib) (1.15.0)\n",
            "Requirement already satisfied: joblib>=0.11 in /usr/local/lib/python3.8/dist-packages (from scikit-learn) (1.2.0)\n",
            "Requirement already satisfied: threadpoolctl>=2.0.0 in /usr/local/lib/python3.8/dist-packages (from scikit-learn) (3.1.0)\n",
            "Requirement already satisfied: pandas>=0.23 in /usr/local/lib/python3.8/dist-packages (from seaborn) (1.3.5)\n",
            "Requirement already satisfied: pytz>=2017.3 in /usr/local/lib/python3.8/dist-packages (from pandas>=0.23->seaborn) (2022.6)\n",
            "Requirement already satisfied: click in /usr/local/lib/python3.8/dist-packages (from nltk) (7.1.2)\n",
            "Requirement already satisfied: regex>=2021.8.3 in /usr/local/lib/python3.8/dist-packages (from nltk) (2022.6.2)\n",
            "Requirement already satisfied: tqdm in /usr/local/lib/python3.8/dist-packages (from nltk) (4.64.1)\n"
          ]
        }
      ],
      "source": [
        "import sys\n",
        "!{sys.executable} -m pip install numpy matplotlib scikit-learn scipy seaborn nltk\n",
        "\n",
        "import numpy as np \n",
        "import pandas as pd \n",
        "import matplotlib.pyplot as plt\n",
        "import seaborn as sns\n",
        "from sklearn.feature_extraction import text\n",
        "from sklearn.feature_extraction.text import TfidfVectorizer\n",
        "from sklearn.cluster import KMeans\n",
        "from nltk.tokenize import RegexpTokenizer\n",
        "from nltk.stem.snowball import SnowballStemmer\n",
        "%matplotlib inline"
      ]
    },
    {
      "cell_type": "code",
      "source": [
        "data = pd.read_csv(\"abcnews-date-text.csv\")\n",
        "\n",
        "data = data['headline_text'].drop_duplicates()\n",
        "\n",
        "\n",
        "print(len(data))"
      ],
      "metadata": {
        "colab": {
          "base_uri": "https://localhost:8080/"
        },
        "id": "snd1nRFLeCuE",
        "outputId": "bc9ec493-708c-47f6-e9b6-787164d00845"
      },
      "execution_count": 78,
      "outputs": [
        {
          "output_type": "stream",
          "name": "stdout",
          "text": [
            "1213004\n"
          ]
        }
      ]
    },
    {
      "cell_type": "code",
      "source": [
        "\n",
        "# Punctiation to separate words for vecotrization\n",
        "punctuation = ['.', ',', '\"', \"'\", '?', '!', ':', ';', '(', ')', '[', ']', '{', '}',\"%\"]\n",
        "# Words that are uninformative like 'and' 'or' 'but' \n",
        "stop_words = text.ENGLISH_STOP_WORDS.union(punctuation)\n",
        "\n",
        "\n",
        "vectorizer = TfidfVectorizer(stop_words = stop_words)\n",
        "\n",
        "X = vectorizer.fit_transform(data)\n",
        "\n",
        "\n",
        "# Use predefined stemmers and tokenizers\n",
        "stem = SnowballStemmer('english')\n",
        "token = RegexpTokenizer(r'[a-zA-Z\\']+')\n",
        "\n",
        "def tokenize(text):\n",
        "    # Returns the array of stemmed words from the tokenized tevxt\n",
        "    return [stem.stem(word) for word in token.tokenize(text.lower())]\n",
        "\n",
        "vectorizer3 = TfidfVectorizer(stop_words = stop_words, tokenizer = tokenize, max_features = 1000)\n",
        "\n",
        "X = vectorizer3.fit_transform(data)\n"
      ],
      "metadata": {
        "colab": {
          "base_uri": "https://localhost:8080/",
          "height": 389
        },
        "id": "iPcwTpTHeQ2i",
        "outputId": "4cc6d825-774f-4d18-f083-a394200eb122"
      },
      "execution_count": 74,
      "outputs": [
        {
          "output_type": "error",
          "ename": "AttributeError",
          "evalue": "ignored",
          "traceback": [
            "\u001b[0;31m---------------------------------------------------------------------------\u001b[0m",
            "\u001b[0;31mAttributeError\u001b[0m                            Traceback (most recent call last)",
            "\u001b[0;32m<ipython-input-74-d24d1402171c>\u001b[0m in \u001b[0;36m<module>\u001b[0;34m\u001b[0m\n\u001b[1;32m      7\u001b[0m \u001b[0mvectorizer\u001b[0m \u001b[0;34m=\u001b[0m \u001b[0mTfidfVectorizer\u001b[0m\u001b[0;34m(\u001b[0m\u001b[0mstop_words\u001b[0m \u001b[0;34m=\u001b[0m \u001b[0mstop_words\u001b[0m\u001b[0;34m)\u001b[0m\u001b[0;34m\u001b[0m\u001b[0;34m\u001b[0m\u001b[0m\n\u001b[1;32m      8\u001b[0m \u001b[0;34m\u001b[0m\u001b[0m\n\u001b[0;32m----> 9\u001b[0;31m \u001b[0mX\u001b[0m \u001b[0;34m=\u001b[0m \u001b[0mvectorizer\u001b[0m\u001b[0;34m.\u001b[0m\u001b[0mfit_transform\u001b[0m\u001b[0;34m(\u001b[0m\u001b[0mdata\u001b[0m\u001b[0;34m)\u001b[0m\u001b[0;34m\u001b[0m\u001b[0;34m\u001b[0m\u001b[0m\n\u001b[0m\u001b[1;32m     10\u001b[0m \u001b[0;34m\u001b[0m\u001b[0m\n\u001b[1;32m     11\u001b[0m \u001b[0;34m\u001b[0m\u001b[0m\n",
            "\u001b[0;32m/usr/local/lib/python3.8/dist-packages/sklearn/feature_extraction/text.py\u001b[0m in \u001b[0;36mfit_transform\u001b[0;34m(self, raw_documents, y)\u001b[0m\n\u001b[1;32m   2075\u001b[0m         \"\"\"\n\u001b[1;32m   2076\u001b[0m         \u001b[0mself\u001b[0m\u001b[0;34m.\u001b[0m\u001b[0m_check_params\u001b[0m\u001b[0;34m(\u001b[0m\u001b[0;34m)\u001b[0m\u001b[0;34m\u001b[0m\u001b[0;34m\u001b[0m\u001b[0m\n\u001b[0;32m-> 2077\u001b[0;31m         \u001b[0mX\u001b[0m \u001b[0;34m=\u001b[0m \u001b[0msuper\u001b[0m\u001b[0;34m(\u001b[0m\u001b[0;34m)\u001b[0m\u001b[0;34m.\u001b[0m\u001b[0mfit_transform\u001b[0m\u001b[0;34m(\u001b[0m\u001b[0mraw_documents\u001b[0m\u001b[0;34m)\u001b[0m\u001b[0;34m\u001b[0m\u001b[0;34m\u001b[0m\u001b[0m\n\u001b[0m\u001b[1;32m   2078\u001b[0m         \u001b[0mself\u001b[0m\u001b[0;34m.\u001b[0m\u001b[0m_tfidf\u001b[0m\u001b[0;34m.\u001b[0m\u001b[0mfit\u001b[0m\u001b[0;34m(\u001b[0m\u001b[0mX\u001b[0m\u001b[0;34m)\u001b[0m\u001b[0;34m\u001b[0m\u001b[0;34m\u001b[0m\u001b[0m\n\u001b[1;32m   2079\u001b[0m         \u001b[0;31m# X is already a transformed view of raw_documents so\u001b[0m\u001b[0;34m\u001b[0m\u001b[0;34m\u001b[0m\u001b[0;34m\u001b[0m\u001b[0m\n",
            "\u001b[0;32m/usr/local/lib/python3.8/dist-packages/sklearn/feature_extraction/text.py\u001b[0m in \u001b[0;36mfit_transform\u001b[0;34m(self, raw_documents, y)\u001b[0m\n\u001b[1;32m   1328\u001b[0m                     \u001b[0;32mbreak\u001b[0m\u001b[0;34m\u001b[0m\u001b[0;34m\u001b[0m\u001b[0m\n\u001b[1;32m   1329\u001b[0m \u001b[0;34m\u001b[0m\u001b[0m\n\u001b[0;32m-> 1330\u001b[0;31m         \u001b[0mvocabulary\u001b[0m\u001b[0;34m,\u001b[0m \u001b[0mX\u001b[0m \u001b[0;34m=\u001b[0m \u001b[0mself\u001b[0m\u001b[0;34m.\u001b[0m\u001b[0m_count_vocab\u001b[0m\u001b[0;34m(\u001b[0m\u001b[0mraw_documents\u001b[0m\u001b[0;34m,\u001b[0m \u001b[0mself\u001b[0m\u001b[0;34m.\u001b[0m\u001b[0mfixed_vocabulary_\u001b[0m\u001b[0;34m)\u001b[0m\u001b[0;34m\u001b[0m\u001b[0;34m\u001b[0m\u001b[0m\n\u001b[0m\u001b[1;32m   1331\u001b[0m \u001b[0;34m\u001b[0m\u001b[0m\n\u001b[1;32m   1332\u001b[0m         \u001b[0;32mif\u001b[0m \u001b[0mself\u001b[0m\u001b[0;34m.\u001b[0m\u001b[0mbinary\u001b[0m\u001b[0;34m:\u001b[0m\u001b[0;34m\u001b[0m\u001b[0;34m\u001b[0m\u001b[0m\n",
            "\u001b[0;32m/usr/local/lib/python3.8/dist-packages/sklearn/feature_extraction/text.py\u001b[0m in \u001b[0;36m_count_vocab\u001b[0;34m(self, raw_documents, fixed_vocab)\u001b[0m\n\u001b[1;32m   1199\u001b[0m         \u001b[0;32mfor\u001b[0m \u001b[0mdoc\u001b[0m \u001b[0;32min\u001b[0m \u001b[0mraw_documents\u001b[0m\u001b[0;34m:\u001b[0m\u001b[0;34m\u001b[0m\u001b[0;34m\u001b[0m\u001b[0m\n\u001b[1;32m   1200\u001b[0m             \u001b[0mfeature_counter\u001b[0m \u001b[0;34m=\u001b[0m \u001b[0;34m{\u001b[0m\u001b[0;34m}\u001b[0m\u001b[0;34m\u001b[0m\u001b[0;34m\u001b[0m\u001b[0m\n\u001b[0;32m-> 1201\u001b[0;31m             \u001b[0;32mfor\u001b[0m \u001b[0mfeature\u001b[0m \u001b[0;32min\u001b[0m \u001b[0manalyze\u001b[0m\u001b[0;34m(\u001b[0m\u001b[0mdoc\u001b[0m\u001b[0;34m)\u001b[0m\u001b[0;34m:\u001b[0m\u001b[0;34m\u001b[0m\u001b[0;34m\u001b[0m\u001b[0m\n\u001b[0m\u001b[1;32m   1202\u001b[0m                 \u001b[0;32mtry\u001b[0m\u001b[0;34m:\u001b[0m\u001b[0;34m\u001b[0m\u001b[0;34m\u001b[0m\u001b[0m\n\u001b[1;32m   1203\u001b[0m                     \u001b[0mfeature_idx\u001b[0m \u001b[0;34m=\u001b[0m \u001b[0mvocabulary\u001b[0m\u001b[0;34m[\u001b[0m\u001b[0mfeature\u001b[0m\u001b[0;34m]\u001b[0m\u001b[0;34m\u001b[0m\u001b[0;34m\u001b[0m\u001b[0m\n",
            "\u001b[0;32m/usr/local/lib/python3.8/dist-packages/sklearn/feature_extraction/text.py\u001b[0m in \u001b[0;36m_analyze\u001b[0;34m(doc, analyzer, tokenizer, ngrams, preprocessor, decoder, stop_words)\u001b[0m\n\u001b[1;32m    111\u001b[0m     \u001b[0;32melse\u001b[0m\u001b[0;34m:\u001b[0m\u001b[0;34m\u001b[0m\u001b[0;34m\u001b[0m\u001b[0m\n\u001b[1;32m    112\u001b[0m         \u001b[0;32mif\u001b[0m \u001b[0mpreprocessor\u001b[0m \u001b[0;32mis\u001b[0m \u001b[0;32mnot\u001b[0m \u001b[0;32mNone\u001b[0m\u001b[0;34m:\u001b[0m\u001b[0;34m\u001b[0m\u001b[0;34m\u001b[0m\u001b[0m\n\u001b[0;32m--> 113\u001b[0;31m             \u001b[0mdoc\u001b[0m \u001b[0;34m=\u001b[0m \u001b[0mpreprocessor\u001b[0m\u001b[0;34m(\u001b[0m\u001b[0mdoc\u001b[0m\u001b[0;34m)\u001b[0m\u001b[0;34m\u001b[0m\u001b[0;34m\u001b[0m\u001b[0m\n\u001b[0m\u001b[1;32m    114\u001b[0m         \u001b[0;32mif\u001b[0m \u001b[0mtokenizer\u001b[0m \u001b[0;32mis\u001b[0m \u001b[0;32mnot\u001b[0m \u001b[0;32mNone\u001b[0m\u001b[0;34m:\u001b[0m\u001b[0;34m\u001b[0m\u001b[0;34m\u001b[0m\u001b[0m\n\u001b[1;32m    115\u001b[0m             \u001b[0mdoc\u001b[0m \u001b[0;34m=\u001b[0m \u001b[0mtokenizer\u001b[0m\u001b[0;34m(\u001b[0m\u001b[0mdoc\u001b[0m\u001b[0;34m)\u001b[0m\u001b[0;34m\u001b[0m\u001b[0;34m\u001b[0m\u001b[0m\n",
            "\u001b[0;32m/usr/local/lib/python3.8/dist-packages/sklearn/feature_extraction/text.py\u001b[0m in \u001b[0;36m_preprocess\u001b[0;34m(doc, accent_function, lower)\u001b[0m\n\u001b[1;32m     69\u001b[0m     \"\"\"\n\u001b[1;32m     70\u001b[0m     \u001b[0;32mif\u001b[0m \u001b[0mlower\u001b[0m\u001b[0;34m:\u001b[0m\u001b[0;34m\u001b[0m\u001b[0;34m\u001b[0m\u001b[0m\n\u001b[0;32m---> 71\u001b[0;31m         \u001b[0mdoc\u001b[0m \u001b[0;34m=\u001b[0m \u001b[0mdoc\u001b[0m\u001b[0;34m.\u001b[0m\u001b[0mlower\u001b[0m\u001b[0;34m(\u001b[0m\u001b[0;34m)\u001b[0m\u001b[0;34m\u001b[0m\u001b[0;34m\u001b[0m\u001b[0m\n\u001b[0m\u001b[1;32m     72\u001b[0m     \u001b[0;32mif\u001b[0m \u001b[0maccent_function\u001b[0m \u001b[0;32mis\u001b[0m \u001b[0;32mnot\u001b[0m \u001b[0;32mNone\u001b[0m\u001b[0;34m:\u001b[0m\u001b[0;34m\u001b[0m\u001b[0;34m\u001b[0m\u001b[0m\n\u001b[1;32m     73\u001b[0m         \u001b[0mdoc\u001b[0m \u001b[0;34m=\u001b[0m \u001b[0maccent_function\u001b[0m\u001b[0;34m(\u001b[0m\u001b[0mdoc\u001b[0m\u001b[0;34m)\u001b[0m\u001b[0;34m\u001b[0m\u001b[0;34m\u001b[0m\u001b[0m\n",
            "\u001b[0;31mAttributeError\u001b[0m: 'list' object has no attribute 'lower'"
          ]
        }
      ]
    },
    {
      "cell_type": "code",
      "source": [
        "words = vectorizer3.get_feature_names()\n",
        "print(words)"
      ],
      "metadata": {
        "id": "qWEh-HaZeVE2",
        "colab": {
          "base_uri": "https://localhost:8080/"
        },
        "outputId": "218965ba-980a-4c81-d0d0-d717877ba5c1"
      },
      "execution_count": 39,
      "outputs": [
        {
          "output_type": "stream",
          "name": "stdout",
          "text": [
            "['abbott', 'abc', 'aborigin', 'abus', 'access', 'accid', 'accus', 'act', 'action', 'ad', 'address', 'adelaid', 'admit', 'affect', 'afghan', 'afghanistan', 'afl', 'africa', 'age', 'agre', 'agreement', 'ahead', 'aid', 'aim', 'air', 'airport', 'al', 'alcohol', 'alert', 'alic', 'alleg', 'allow', 'alp', 'amid', 'andrew', 'anger', 'anim', 'announc', 'anoth', 'anti', 'anzac', 'apologis', 'appeal', 'appear', 'appoint', 'approv', 'area', 'arm', 'armi', 'arrest', 'arriv', 'art', 'ash', 'ask', 'assault', 'assist', 'asylum', 'attack', 'attempt', 'august', 'aussi', 'aust', 'australia', 'australian', 'author', 'avoid', 'await', 'award', 'away', 'axe', 'b', 'babi', 'bad', 'bail', 'bali', 'ban', 'bank', 'base', 'bash', 'battl', 'bay', 'beach', 'beat', 'becom', 'beef', 'befor', 'begin', 'bendigo', 'benefit', 'best', 'better', 'bid', 'big', 'biki', 'billion', 'bird', 'black', 'blame', 'blast', 'blaze', 'block', 'blow', 'blue', 'board', 'boat', 'bodi', 'bomb', 'bomber', 'book', 'boom', 'boost', 'border', 'boss', 'box', 'boy', 'brawl', 'breach', 'break', 'bridg', 'bring', 'brisban', 'british', 'broken', 'brother', 'brown', 'budget', 'build', 'bull', 'bulldog', 'burn', 'bus', 'bush', 'bushfir', 'busi', 'buy', 'cabinet', 'camp', 'campaign', 'canberra', 'cancel', 'cancer', 'candid', 'capit', 'car', 'carbon', 'card', 'care', 'case', 'cash', 'cat', 'cattl', 'caught', 'caus', 'celebr', 'centr', 'central', 'ceo', 'challeng', 'champion', 'chanc', 'chang', 'charg', 'chase', 'check', 'chief', 'child', 'children', 'china', 'chines', 'christma', 'church', 'citi', 'claim', 'clark', 'clash', 'clean', 'clear', 'climat', 'close', 'closur', 'club', 'coach', 'coal', 'coalit', 'coast', 'collaps', 'come', 'comment', 'commiss', 'commission', 'commit', 'communiti', 'compani', 'compens', 'concern', 'condit', 'confer', 'confid', 'confirm', 'consid', 'construct', 'continu', 'contract', 'control', 'convict', 'cop', 'coron', 'coronavirus', 'corrupt', 'cost', 'council', 'councillor', 'countri', 'coupl', 'court', 'covid', 'crackdown', 'crash', 'creat', 'creek', 'crew', 'cricket', 'crime', 'crisi', 'critic', 'criticis', 'croc', 'crop', 'cross', 'crow', 'crowd', 'cup', 'custodi', 'cut', 'cyclon', 'dairi', 'dam', 'damag', 'danger', 'darwin', 'data', 'date', 'david', 'day', 'dead', 'deal', 'death', 'debat', 'debt', 'decid', 'decis', 'declar', 'defenc', 'defend', 'delay', 'deliv', 'demand', 'deni', 'despit', 'destroy', 'detent', 'develop', 'die', 'director', 'disabl', 'disast', 'discuss', 'diseas', 'dismiss', 'disput', 'doctor', 'dog', 'dollar', 'domest', 'donald', 'donat', 'doubl', 'doubt', 'draw', 'dri', 'drink', 'drive', 'driver', 'drop', 'drought', 'drown', 'drug', 'drum', 'dump', 'dure', 'eagl', 'earli', 'eas', 'east', 'econom', 'economi', 'edg', 'educ', 'effort', 'elder', 'elect', 'emerg', 'end', 'energi', 'england', 'escap', 'evacu', 'evid', 'ex', 'execut', 'expans', 'expect', 'expert', 'explain', 'explos', 'export', 'extend', 'eye', 'face', 'fail', 'fall', 'famili', 'fan', 'far', 'farewel', 'farm', 'farmer', 'fatal', 'father', 'fear', 'feder', 'fee', 'festiv', 'fight', 'figur', 'fiji', 'film', 'final', 'financi', 'fine', 'firefight', 'firm', 'fish', 'fix', 'flag', 'fli', 'flight', 'flood', 'flu', 'focus', 'follow', 'food', 'footbal', 'forc', 'forecast', 'foreign', 'forest', 'form', 'forum', 'franc', 'fraud', 'free', 'french', 'friday', 'friend', 'fruit', 'fuel', 'fund', 'futur', 'g', 'gain', 'game', 'gas', 'gay', 'gaza', 'general', 'georg', 'giant', 'gillard', 'gippsland', 'girl', 'given', 'global', 'goe', 'gold', 'good', 'govern', 'govt', 'grain', 'grand', 'grandstand', 'grant', 'great', 'green', 'ground', 'group', 'grow', 'grower', 'growth', 'guilti', 'gun', 'hail', 'hand', 'happi', 'harbour', 'harvest', 'hawk', 'head', 'health', 'hear', 'heart', 'heat', 'held', 'help', 'heritag', 'high', 'higher', 'highlight', 'highway', 'hill', 'histor', 'histori', 'hit', 'hobart', 'hold', 'home', 'homeless', 'honour', 'hope', 'hors', 'hospit', 'host', 'hot', 'hotel', 'hour', 'hous', 'howard', 'human', 'hundr', 'hunt', 'hunter', 'hurt', 'ice', 'illeg', 'impact', 'import', 'improv', 'incid', 'increas', 'independ', 'india', 'indian', 'indigen', 'indonesia', 'indonesian', 'industri', 'injur', 'injuri', 'inquest', 'inquiri', 'insur', 'intern', 'interview', 'invest', 'investig', 'iran', 'iraq', 'iraqi', 'irrig', 'islam', 'island', 'isra', 'israel', 'issu', 'jail', 'jame', 'japan', 'japanes', 'jet', 'job', 'john', 'johnson', 'join', 'jone', 'journalist', 'judg', 'juli', 'jump', 'k', 'kangaroo', 'keen', 'key', 'kid', 'kill', 'killer', 'kimberley', 'king', 'knight', 'korea', 'labor', 'lake', 'land', 'lanka', 'late', 'latest', 'launch', 'law', 'lawyer', 'lead', 'leader', 'leadership', 'leagu', 'leak', 'learn', 'leav', 'left', 'legal', 'level', 'liber', 'life', 'lift', 'light', 'like', 'limit', 'line', 'link', 'lion', 'list', 'live', 'local', 'london', 'long', 'look', 'loom', 'lose', 'loss', 'lost', 'low', 'lower', 'm', 'mackay', 'major', 'make', 'man', 'manag', 'march', 'marin', 'mark', 'market', 'marriag', 'match', 'mayor', 'media', 'medic', 'meet', 'melbourn', 'member', 'memori', 'men', 'mental', 'merger', 'michael', 'mid', 'militari', 'million', 'miner', 'minist', 'miss', 'mix', 'monday', 'money', 'month', 'morrison', 'mother', 'mount', 'mp', 'mps', 'murder', 'murray', 'music', 'nation', 'near', 'need', 'new', 'newcastl', 'news', 'night', 'north', 'northern', 'nrl', 'nrn', 'nsw', 'nt', 'nuclear', 'number', 'nurs', 'nz', 'obama', 'offer', 'offic', 'offici', 'oil', 'old', 'olymp', 'onlin', 'open', 'oper', 'opposit', 'order', 'origin', 'outback', 'outbreak', 'owner', 'pacif', 'pair', 'pakistan', 'palestinian', 'parent', 'park', 'parliament', 'parti', 'pass', 'passeng', 'patient', 'pay', 'pc', 'peac', 'peopl', 'perth', 'peter', 'petrol', 'philippin', 'phone', 'pilot', 'place', 'plan', 'plane', 'plant', 'play', 'player', 'plea', 'plead', 'pledg', 'pm', 'png', 'point', 'polic', 'polici', 'polit', 'poll', 'pool', 'port', 'posit', 'possibl', 'post', 'power', 'prais', 'predict', 'premier', 'prepar', 'presid', 'press', 'pressur', 'price', 'princ', 'prison', 'privat', 'probe', 'problem', 'produc', 'product', 'profit', 'program', 'project', 'promis', 'prompt', 'properti', 'propos', 'protect', 'protest', 'public', 'pull', 'push', 'qanta', 'qld', 'quak', 'queen', 'queensland', 'question', 'quit', 'race', 'raid', 'rail', 'rain', 'rais', 'ralli', 'rape', 'rare', 'rate', 'reach', 'readi', 'real', 'rebel', 'receiv', 'record', 'recov', 'recoveri', 'red', 'reduc', 'reef', 'reform', 'refuge', 'refus', 'region', 'reject', 'relat', 'releas', 'relief', 'remain', 'rememb', 'remot', 'remov', 'renew', 'reopen', 'replac', 'report', 'rescu', 'research', 'reserv', 'resid', 'resign', 'resourc', 'respons', 'restrict', 'result', 'resum', 'retail', 'retir', 'return', 'revamp', 'reveal', 'review', 'ride', 'right', 'rio', 'riot', 'rise', 'risk', 'river', 'road', 'robberi', 'rock', 'role', 'roll', 'round', 'row', 'royal', 'rudd', 'rugbi', 'rule', 'run', 'rural', 'russia', 'russian', 's', 'sa', 'sack', 'safe', 'safeti', 'sale', 'save', 'say', 'scheme', 'school', 'scientist', 'scott', 'sea', 'search', 'season', 'seat', 'second', 'sector', 'secur', 'seek', 'seeker', 'seiz', 'sell', 'semi', 'senat', 'send', 'sentenc', 'seri', 'servic', 'set', 'seven', 'sex', 'sexual', 'share', 'shark', 'sheep', 'ship', 'shire', 'shock', 'shoot', 'shop', 'short', 'shortag', 'shot', 'sign', 'site', 'slam', 'slow', 'small', 'smith', 'smoke', 'socceroo', 'social', 'solar', 'soldier', 'son', 'sought', 'south', 'southern', 'space', 'spark', 'speak', 'speed', 'spend', 'spill', 'sport', 'spot', 'spring', 'squad', 'sri', 'st', 'stab', 'staff', 'stage', 'stand', 'star', 'start', 'state', 'station', 'stay', 'step', 'stock', 'stolen', 'stop', 'stori', 'storm', 'street', 'strike', 'strong', 'struggl', 'student', 'studi', 'success', 'suffer', 'sugar', 'suicid', 'super', 'suppli', 'support', 'surg', 'surgeri', 'survey', 'surviv', 'survivor', 'suspect', 'suspend', 'swan', 'swim', 'sydney', 'syria', 'tackl', 'takeov', 'talk', 'target', 'tas', 'tasmania', 'tasmanian', 'tax', 'taxi', 'teacher', 'team', 'teen', 'teenag', 'tell', 'telstra', 'term', 'territori', 'terror', 'test', 'th', 'thai', 'theft', 'thousand', 'threat', 'threaten', 'tiger', 'time', 'timor', 'tip', 'titl', 'told', 'toll', 'toni', 'tough', 'tour', 'tourism', 'tourist', 'town', 'townsvill', 'track', 'trade', 'train', 'transport', 'travel', 'treatment', 'tree', 'tri', 'trial', 'tribut', 'troop', 'truck', 'trump', 'tsunami', 'turn', 'turnbul', 'tv', 'uk', 'uni', 'union', 'unit', 'univers', 'unveil', 'upgrad', 'urg', 'use', 'vaccin', 'valley', 'veteran', 'vic', 'victim', 'victori', 'victoria', 'victorian', 'video', 'violenc', 'visit', 'volunt', 'vote', 'vow', 'vs', 'wa', 'wait', 'walk', 'wall', 'wallabi', 'want', 'war', 'warn', 'warrior', 'wast', 'watch', 'water', 'way', 'weather', 'week', 'weekend', 'welcom', 'welfar', 'west', 'western', 'whale', 'whi', 'white', 'wife', 'wild', 'william', 'win', 'wind', 'wine', 'winner', 'wit', 'withdraw', 'woe', 'woman', 'women', 'wont', 'work', 'worker', 'world', 'worri', 'year', 'yo', 'young', 'youth', 'zealand', 'zone']\n"
          ]
        },
        {
          "output_type": "stream",
          "name": "stderr",
          "text": [
            "/usr/local/lib/python3.8/dist-packages/sklearn/utils/deprecation.py:87: FutureWarning: Function get_feature_names is deprecated; get_feature_names is deprecated in 1.0 and will be removed in 1.2. Please use get_feature_names_out instead.\n",
            "  warnings.warn(msg, category=FutureWarning)\n"
          ]
        }
      ]
    },
    {
      "cell_type": "code",
      "source": [
        "from sklearn.cluster import KMeans\n",
        "wcss = []\n",
        "for i in range(1,11):\n",
        "    kmeans = KMeans(n_clusters=i,n_init=4,max_iter=300)\n",
        "    kmeans.fit(X)\n",
        "    wcss.append(kmeans.inertia_)\n",
        "plt.plot(range(1,11),wcss)\n",
        "plt.title('The Elbow Method')\n",
        "plt.xlabel('Number of clusters')\n",
        "plt.ylabel('WCSS')\n",
        "plt.savefig('elbow.png')\n",
        "plt.show()\n",
        "\n",
        "from sklearn.metrics import silhouette_samples, silhouette_score\n",
        "import matplotlib.cm as cm\n",
        "\n",
        "range_n_clusters = range(6, 11)\n",
        "\n",
        "for n_clusters in range_n_clusters:\n",
        "    fig, (ax1) = plt.subplots()\n",
        "    fig.set_size_inches(18, 7)\n",
        "    ax1.set_xlim([-.1, 0.5])\n",
        "    ax1.set_ylim([0, X.shape[0] + (n_clusters + 1) * 10])\n",
        "\n",
        "    clusterer = KMeans(n_clusters=n_clusters,n_init=4, random_state=10)\n",
        "    cluster_labels = clusterer.fit_predict(X)\n",
        "    silhouette_avg = silhouette_score(X, labels=cluster_labels)\n",
        "    \n",
        "    print(\n",
        "        \"For n_clusters =\",\n",
        "        n_clusters,\n",
        "        \"The average silhouette_score is :\",\n",
        "        silhouette_avg,\n",
        "    )\n",
        "\n",
        "    sample_silhouette_values = silhouette_samples(X, cluster_labels)\n",
        "\n",
        "    y_lower = 10\n",
        "    max_size_cluster = 0\n",
        "    bigest_size_index = 0\n",
        "    for i in range(n_clusters):\n",
        "        ith_cluster_silhouette_values = sample_silhouette_values[cluster_labels == i]\n",
        "        ith_cluster_silhouette_values.sort()\n",
        "        size_cluster_i = ith_cluster_silhouette_values.shape[0]\n",
        "        if size_cluster_i > max_size_cluster:\n",
        "            max_size_cluster = size_cluster_i\n",
        "            bigest_size_index = i\n",
        "\n",
        "        y_upper = y_lower + size_cluster_i\n",
        "        color = cm.nipy_spectral(float(i) / n_clusters)\n",
        "        ax1.fill_betweenx(\n",
        "            np.arange(y_lower, y_upper),\n",
        "            0,\n",
        "            ith_cluster_silhouette_values,\n",
        "            facecolor=color,\n",
        "            edgecolor=color,\n",
        "            alpha=0.7,\n",
        "        )\n",
        "\n",
        "        ax1.text(-0.05, y_lower + 0.5 * size_cluster_i, str(i))\n",
        "        y_lower = y_upper + 10  \n",
        "\n",
        "    ax1.set_title(\"The silhouette plot for the various clusters.\")\n",
        "    ax1.set_xlabel(\"The silhouette coefficient values\")\n",
        "    ax1.set_ylabel(\"Cluster label\")\n",
        "\n",
        "    ax1.axvline(x=silhouette_avg, color=\"red\", linestyle=\"--\")\n",
        "    ax1.set_yticks([])  # Clear the yaxis labels / ticks\n",
        "    ax1.set_xticks([-0.1, 0, 0.2, 0.4, 0.6, 0.8, 1])\n",
        "    \n",
        "    plt.suptitle(\n",
        "        \"Silhouette analysis for KMeans clustering on sample data with n_clusters = %d\"\n",
        "        % n_clusters,\n",
        "        fontsize=14,\n",
        "        fontweight=\"bold\",\n",
        "    )\n",
        "\n",
        "plt.show()\n",
        "\n"
      ],
      "metadata": {
        "id": "4jZVg4C1eXvD"
      },
      "execution_count": null,
      "outputs": []
    },
    {
      "cell_type": "code",
      "source": [
        "print(X.shape)"
      ],
      "metadata": {
        "colab": {
          "base_uri": "https://localhost:8080/"
        },
        "id": "KdgIN3SDTKcT",
        "outputId": "288ff02b-6b12-4732-bd8f-63fdee65ef55"
      },
      "execution_count": 91,
      "outputs": [
        {
          "output_type": "stream",
          "name": "stdout",
          "text": [
            "(1213004, 1000)\n"
          ]
        }
      ]
    },
    {
      "cell_type": "markdown",
      "source": [
        "**K-Means TFIDF K=8**"
      ],
      "metadata": {
        "id": "eMfqb6p8iNMk"
      }
    },
    {
      "cell_type": "code",
      "source": [
        "\n",
        "kmeans = KMeans(n_clusters = 10, n_init = 20)\n",
        "kmeans.fit(X)\n",
        "\n",
        "# Finally, we look at 8 the clusters generated by k-means. Show the top 25 words in each cluster \n",
        "common_words = kmeans.cluster_centers_.argsort()[:,-1:-10:-1]\n",
        "for num, centroid in enumerate(common_words):\n",
        "    print(str(num) + ' : ' + ', '.join(words[word] for word in centroid))"
      ],
      "metadata": {
        "id": "0ezM9mtfh4J_",
        "colab": {
          "base_uri": "https://localhost:8080/"
        },
        "outputId": "5ffc406a-1e28-41b9-9d65-a4635e79835f"
      },
      "execution_count": 41,
      "outputs": [
        {
          "output_type": "stream",
          "name": "stdout",
          "text": [
            "0 : plan, win, australia, council, govt, report, kill, nsw, warn\n",
            "1 : new, zealand, year, law, case, plan, open, record, council\n",
            "2 : australian, open, year, share, dollar, south, market, win, new\n",
            "3 : say, polic, need, minist, govt, expert, trump, plan, mp\n",
            "4 : interview, extend, nrl, michael, afl, john, david, speak, mark\n",
            "5 : health, hospit, boost, mental, fund, servic, plan, govt, minist\n",
            "6 : help, fight, fund, urg, farmer, save, vow, govt, council\n",
            "7 : flood, hit, resid, rain, damag, qld, nsw, warn, victim\n",
            "8 : polic, investig, probe, man, offic, search, arrest, hunt, miss\n",
            "9 : man, charg, court, murder, face, jail, accus, assault, stab\n"
          ]
        }
      ]
    },
    {
      "cell_type": "code",
      "source": [
        "labels = kmeans.labels_\n",
        "unique, counts = np.unique(labels, return_counts=True)\n",
        "print(np.asarray((unique, counts)).T)"
      ],
      "metadata": {
        "id": "GPVi9aqnkK0N",
        "colab": {
          "base_uri": "https://localhost:8080/"
        },
        "outputId": "2b8f68b0-5d7a-4467-a229-709d88d4502c"
      },
      "execution_count": 42,
      "outputs": [
        {
          "output_type": "stream",
          "name": "stdout",
          "text": [
            "[[     0 987397]\n",
            " [     1  32205]\n",
            " [     2  15966]\n",
            " [     3  28340]\n",
            " [     4   6682]\n",
            " [     5  27471]\n",
            " [     6  16373]\n",
            " [     7   8836]\n",
            " [     8  36256]\n",
            " [     9  53478]]\n"
          ]
        }
      ]
    },
    {
      "cell_type": "code",
      "source": [
        "labels = ['Government Policy', 'New Zealand', 'Economy','Elections', 'Popular Culture', 'Public Health','Social Issues','Weather','Police Investigations','Justice System']\n",
        "\n",
        "sizes = [987397, 32205, 15966, 28340,6682,27471,16373,8836,36256,53478]\n",
        "\n",
        "\n",
        "fig1, ax1 = plt.subplots()\n",
        "fig1.set_figheight(8)\n",
        "fig1.set_figwidth(8)\n",
        "ax1.pie(sizes, labels=labels, autopct='%1.1f%%',\n",
        "        shadow=True, startangle=90)\n",
        "ax1.axis('equal')  # Equal aspect ratio ensures that pie is drawn as a circle.\n",
        "\n",
        "plt.show()"
      ],
      "metadata": {
        "id": "Jsnpa5gBlJRO",
        "colab": {
          "base_uri": "https://localhost:8080/",
          "height": 474
        },
        "outputId": "c2413317-4cc9-48ac-dd28-f2677799ee2f"
      },
      "execution_count": 45,
      "outputs": [
        {
          "output_type": "display_data",
          "data": {
            "text/plain": [
              "<Figure size 576x576 with 1 Axes>"
            ],
            "image/png": "[encoded data removed]"
          },
          "metadata": {}
        }
      ]
    },
    {
      "cell_type": "markdown",
      "source": [
        "**K-Means Word2Vec**"
      ],
      "metadata": {
        "id": "in0TEd2fmCK2"
      }
    },
    {
      "cell_type": "code",
      "source": [
        "import os\n",
        "import random\n",
        "import re\n",
        "import string\n",
        "\n",
        "import nltk\n",
        "import numpy as np\n",
        "import pandas as pd\n",
        "\n",
        "from gensim.models import Word2Vec\n",
        "\n",
        "from nltk import word_tokenize\n",
        "from nltk.corpus import stopwords\n",
        "\n",
        "from sklearn.cluster import MiniBatchKMeans\n",
        "from sklearn.metrics import silhouette_samples, silhouette_score\n",
        "\n",
        "nltk.download(\"stopwords\")\n",
        "\n",
        "SEED = 42\n",
        "random.seed(SEED)\n",
        "os.environ[\"PYTHONHASHSEED\"] = str(SEED)\n",
        "np.random.seed(SEED)"
      ],
      "metadata": {
        "id": "MZbh7Uduj_ui",
        "colab": {
          "base_uri": "https://localhost:8080/"
        },
        "outputId": "172653d0-94c3-476b-bb3a-161d54427363"
      },
      "execution_count": 3,
      "outputs": [
        {
          "output_type": "stream",
          "name": "stderr",
          "text": [
            "[nltk_data] Downloading package stopwords to /root/nltk_data...\n",
            "[nltk_data]   Unzipping corpora/stopwords.zip.\n"
          ]
        }
      ]
    },
    {
      "cell_type": "code",
      "source": [
        "data"
      ],
      "metadata": {
        "colab": {
          "base_uri": "https://localhost:8080/"
        },
        "id": "sPTlEDaCwpyf",
        "outputId": "5a96bb92-bd74-4000-e771-e3bc12bd6ae6"
      },
      "execution_count": 59,
      "outputs": [
        {
          "output_type": "execute_result",
          "data": {
            "text/plain": [
              "0          aba decides against community broadcasting lic...\n",
              "1             act fire witnesses must be aware of defamation\n",
              "2             a g calls for infrastructure protection summit\n",
              "3                   air nz staff in aust strike for pay rise\n",
              "4              air nz strike to affect australian travellers\n",
              "                                 ...                        \n",
              "1244179    two aged care residents die as state records 2...\n",
              "1244180    victoria records 5;919 new cases and seven deaths\n",
              "1244181      wa delays adopting new close contact definition\n",
              "1244182    western ringtail possums found badly dehydrate...\n",
              "1244183    what makes you a close covid contact here are ...\n",
              "Name: headline_text, Length: 1213004, dtype: object"
            ]
          },
          "metadata": {},
          "execution_count": 59
        }
      ]
    },
    {
      "cell_type": "code",
      "source": [
        "# Use predefined stemmers and tokenizers\n",
        "stem = SnowballStemmer('english')\n",
        "token = RegexpTokenizer(r'[a-zA-Z\\']+')\n",
        "\n",
        "def tokenize(text):\n",
        "    # Returns the array of stemmed words from the tokenized tevxt\n",
        "    return [stem.stem(word) for word in token.tokenize(text.lower())]"
      ],
      "metadata": {
        "id": "NlvX_zR7PuJ6"
      },
      "execution_count": 75,
      "outputs": []
    },
    {
      "cell_type": "code",
      "source": [
        "def clean_text(text, tokenizer, stopwords):\n",
        "    \"\"\"Pre-process text and generate tokens\n",
        "\n",
        "    Args:\n",
        "        text: Text to tokenize.\n",
        "\n",
        "    Returns:\n",
        "        Tokenized text.\n",
        "    \"\"\"\n",
        "    text = str(text).lower()  # Lowercase words\n",
        "    text = re.sub(r\"\\[(.*?)\\]\", \"\", text)  # Remove [+XYZ chars] in content\n",
        "    text = re.sub(r\"\\s+\", \" \", text)  # Remove multiple spaces in content\n",
        "    text = re.sub(r\"\\w+…|…\", \"\", text)  # Remove ellipsis (and last word)\n",
        "    text = re.sub(r\"(?<=\\w)-(?=\\w)\", \" \", text)  # Replace dash between words\n",
        "    text = re.sub(\n",
        "        f\"[{re.escape(string.punctuation)}]\", \"\", text\n",
        "    )  # Remove punctuation\n",
        "\n",
        "    tokens = tokenizer(text)  # Get tokens from text\n",
        "    tokens = [t for t in tokens if not t in stopwords]  # Remove stopwords\n",
        "    tokens = [\"\" if t.isdigit() else t for t in tokens]  # Remove digits\n",
        "    tokens = [t for t in tokens if len(t) > 1]  # Remove short tokens\n",
        "    return tokens\n"
      ],
      "metadata": {
        "id": "n0xSp8qFwuEC"
      },
      "execution_count": 79,
      "outputs": []
    },
    {
      "cell_type": "code",
      "source": [
        "nltk.download('punkt')"
      ],
      "metadata": {
        "colab": {
          "base_uri": "https://localhost:8080/"
        },
        "id": "nZRH6g9RxWIL",
        "outputId": "21aa38ff-6b3b-4a04-aa96-abdcacfcfd0a"
      },
      "execution_count": 5,
      "outputs": [
        {
          "output_type": "stream",
          "name": "stderr",
          "text": [
            "[nltk_data] Downloading package punkt to /root/nltk_data...\n",
            "[nltk_data]   Unzipping tokenizers/punkt.zip.\n"
          ]
        },
        {
          "output_type": "execute_result",
          "data": {
            "text/plain": [
              "True"
            ]
          },
          "metadata": {},
          "execution_count": 5
        }
      ]
    },
    {
      "cell_type": "code",
      "source": [
        "custom_stopwords = set(stopwords.words(\"english\") + [\"news\", \"new\", \"top\"])\n",
        "\n",
        "# Create text column based on title, description, and content\n",
        "\n",
        "data = data.map(lambda x: clean_text(x, tokenize, custom_stopwords))\n",
        "\n",
        "\n"
      ],
      "metadata": {
        "id": "gkxWOqsKwyPG"
      },
      "execution_count": 80,
      "outputs": []
    },
    {
      "cell_type": "code",
      "source": [
        "data"
      ],
      "metadata": {
        "colab": {
          "base_uri": "https://localhost:8080/"
        },
        "id": "uqraNq8axa3l",
        "outputId": "85b14dde-57b4-41e8-f415-6b62d9ce6291"
      },
      "execution_count": 93,
      "outputs": [
        {
          "output_type": "execute_result",
          "data": {
            "text/plain": [
              "0                 [aba, decid, communiti, broadcast, licenc]\n",
              "1                        [act, fire, wit, must, awar, defam]\n",
              "2                     [call, infrastructur, protect, summit]\n",
              "3                  [air, nz, staff, aust, strike, pay, rise]\n",
              "4              [air, nz, strike, affect, australian, travel]\n",
              "                                 ...                        \n",
              "1244179          [two, age, care, resid, die, state, record]\n",
              "1244180               [victoria, record, case, seven, death]\n",
              "1244181          [wa, delay, adopt, close, contact, definit]\n",
              "1244182    [western, ringtail, possum, found, bad, dehydr...\n",
              "1244183                  [make, close, covid, contact, rule]\n",
              "Name: headline_text, Length: 1213004, dtype: object"
            ]
          },
          "metadata": {},
          "execution_count": 93
        }
      ]
    },
    {
      "cell_type": "code",
      "source": [
        "model = Word2Vec(sentences=data, size=300, workers=3, sg=1)\n",
        "\n"
      ],
      "metadata": {
        "id": "6VpXYGVFx2Yg"
      },
      "execution_count": 81,
      "outputs": []
    },
    {
      "cell_type": "code",
      "source": [
        "wv = model.wv\n",
        "\n",
        "\n",
        "#get vocab from wv and then iterate through wv\n",
        "ind2word = wv.index2word\n",
        "vectorized_words = []\n",
        "words = []\n",
        "for i in ind2word:\n",
        "  vectorized_words.append(wv[i])\n",
        "  words.append(i)\n",
        "\n"
      ],
      "metadata": {
        "id": "WhDz7cktkB88"
      },
      "execution_count": 82,
      "outputs": []
    },
    {
      "cell_type": "code",
      "source": [
        "print(len(words))"
      ],
      "metadata": {
        "colab": {
          "base_uri": "https://localhost:8080/"
        },
        "id": "NxXWrKGGPPxD",
        "outputId": "25b30cd9-f196-4f2f-8cfb-a5abb895d5da"
      },
      "execution_count": 83,
      "outputs": [
        {
          "output_type": "stream",
          "name": "stdout",
          "text": [
            "27122\n"
          ]
        }
      ]
    },
    {
      "cell_type": "code",
      "source": [
        "words"
      ],
      "metadata": {
        "id": "BUoQH26RPRTe"
      },
      "execution_count": null,
      "outputs": []
    },
    {
      "cell_type": "code",
      "source": [
        "vectorized_words = np.array(vectorized_words)\n",
        "kmeans = KMeans(n_clusters = 10, n_init = 20)\n",
        "kmeans.fit(vectorized_words)"
      ],
      "metadata": {
        "colab": {
          "base_uri": "https://localhost:8080/"
        },
        "id": "w2M_uYUCEiIv",
        "outputId": "ad0d9b9d-3576-44f3-ccd8-0a9542e4fc63"
      },
      "execution_count": 84,
      "outputs": [
        {
          "output_type": "execute_result",
          "data": {
            "text/plain": [
              "KMeans(n_clusters=10, n_init=20)"
            ]
          },
          "metadata": {},
          "execution_count": 84
        }
      ]
    },
    {
      "cell_type": "code",
      "source": [
        "print(vectorized_words.shape)"
      ],
      "metadata": {
        "colab": {
          "base_uri": "https://localhost:8080/"
        },
        "id": "W42w33MATOsM",
        "outputId": "1bccdb34-8e2e-4f3d-8593-c1c4f0d20f55"
      },
      "execution_count": 92,
      "outputs": [
        {
          "output_type": "stream",
          "name": "stdout",
          "text": [
            "(27122, 300)\n"
          ]
        }
      ]
    },
    {
      "cell_type": "code",
      "source": [
        "common_words = kmeans.cluster_centers_.argsort()[:,-1:-25:-1]\n",
        "\n",
        "for num, centroid in enumerate(common_words):\n",
        "    print(str(num) + ' : ' + ', ',end='')\n",
        "    centroid = centroid[15:25]\n",
        "    for c in centroid:\n",
        "      print(ind2word[c] + ' ',end='')\n",
        "    print('')\n",
        "    "
      ],
      "metadata": {
        "colab": {
          "base_uri": "https://localhost:8080/"
        },
        "id": "F7Ekc6tZEyUy",
        "outputId": "24522185-62f1-4466-9337-6510b27c4d83"
      },
      "execution_count": 90,
      "outputs": [
        {
          "output_type": "stream",
          "name": "stdout",
          "text": [
            "0 : , vic three victim sydney say covid delay work teen \n",
            "1 : , job report council resid lead teen feder worker covid \n",
            "2 : , world report leav rescu probe job budget resid decis \n",
            "3 : , farm accus support melbourn china put die leader worker \n",
            "4 : , melbourn support mp report mayor north covid rain hour \n",
            "5 : , crash park run continu make covid victim nt resid \n",
            "6 : , defend leav south world say studi woman save covid \n",
            "7 : , reveal talk decis rescu go world first strike research \n",
            "8 : , put hour land continu close woman south play sydney \n",
            "9 : , close put decis land woman south student research region \n"
          ]
        }
      ]
    },
    {
      "cell_type": "code",
      "source": [
        "labels = kmeans.labels_\n",
        "unique, counts = np.unique(labels, return_counts=True)\n",
        "print(np.asarray((unique, counts)).T)"
      ],
      "metadata": {
        "colab": {
          "base_uri": "https://localhost:8080/"
        },
        "id": "ZRWtzF0dJZAP",
        "outputId": "8c56a0f6-8044-412e-f700-49d17079270d"
      },
      "execution_count": 86,
      "outputs": [
        {
          "output_type": "stream",
          "name": "stdout",
          "text": [
            "[[    0  1783]\n",
            " [    1  1413]\n",
            " [    2  2508]\n",
            " [    3  1314]\n",
            " [    4  1581]\n",
            " [    5  1922]\n",
            " [    6 10317]\n",
            " [    7  1214]\n",
            " [    8  2601]\n",
            " [    9  2469]]\n"
          ]
        }
      ]
    },
    {
      "cell_type": "markdown",
      "source": [
        "Running K-Means with K=8 was able to yield pretty good results in terms of the ability to extract topics from the groups of words for TF-IDF. However, with the TF-IDF vectorizations one group out of the eight was significantly larger than the others classifying 80% of the data points.\n"
      ],
      "metadata": {
        "id": "RRFDG4d_OfD0"
      }
    },
    {
      "cell_type": "markdown",
      "source": [
        "Running K-Means with K=8 was not able to yield good results for extracting topics from groups of words for Word2Vec. Many of the same words appeared in multiple groups which indicates that K-Means was not able to effectively separate the data. One reason for this could be the curse of dimensionality as the vectors are encoded to a R300 vector space. To see if K-Means would work better in a higher dimensional space, we will run Word2Vec again with higher dimensional encodings..."
      ],
      "metadata": {
        "id": "0yfcsNI2SseM"
      }
    },
    {
      "cell_type": "code",
      "source": [
        "model = Word2Vec(sentences=data, size=1000, workers=3, sg=1)"
      ],
      "metadata": {
        "id": "5_PpuDdDThct"
      },
      "execution_count": null,
      "outputs": []
    },
    {
      "cell_type": "code",
      "source": [
        "wv = model.wv\n",
        "\n",
        "\n",
        "#get vocab from wv and then iterate through wv\n",
        "ind2word = wv.index2word\n",
        "vectorized_words = []\n",
        "words = []\n",
        "for i in ind2word:\n",
        "  vectorized_words.append(wv[i])\n",
        "  words.append(i)\n",
        "\n"
      ],
      "metadata": {
        "id": "vuhIRjQsTipc"
      },
      "execution_count": null,
      "outputs": []
    },
    {
      "cell_type": "code",
      "source": [
        "vectorized_words = np.array(vectorized_words)\n",
        "kmeans = KMeans(n_clusters = 10, n_init = 20)\n",
        "kmeans.fit(vectorized_words)"
      ],
      "metadata": {
        "id": "S5kfjvvYTnp-"
      },
      "execution_count": null,
      "outputs": []
    },
    {
      "cell_type": "code",
      "source": [
        "common_words = kmeans.cluster_centers_.argsort()[:,-1:-25:-1]\n",
        "\n",
        "for num, centroid in enumerate(common_words):\n",
        "    print(str(num) + ' : ' + ', ',end='')\n",
        "    centroid = centroid[:10]\n",
        "    for c in centroid:\n",
        "      print(ind2word[c] + ' ',end='')\n",
        "    print('')\n",
        "    "
      ],
      "metadata": {
        "id": "VE6QmjvhTpl1"
      },
      "execution_count": null,
      "outputs": []
    }
  ]
}